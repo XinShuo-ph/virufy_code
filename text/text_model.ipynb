{
  "nbformat": 4,
  "nbformat_minor": 0,
  "metadata": {
    "colab": {
      "name": "text_model_public.ipynb",
      "provenance": [],
      "toc_visible": true
    },
    "kernelspec": {
      "name": "python3",
      "display_name": "Python 3"
    }
  },
  "cells": [
    {
      "cell_type": "markdown",
      "metadata": {
        "id": "AYHsM6iMevEu",
        "colab_type": "text"
      },
      "source": [
        "# Text Model"
      ]
    },
    {
      "cell_type": "markdown",
      "metadata": {
        "id": "fem0VR33G5LH",
        "colab_type": "text"
      },
      "source": [
        "Importing libraries and train data from google drive"
      ]
    },
    {
      "cell_type": "markdown",
      "metadata": {
        "id": "nw7nhMG-ec-r",
        "colab_type": "text"
      },
      "source": [
        ""
      ]
    },
    {
      "cell_type": "code",
      "metadata": {
        "id": "tGDXmrWmYSkr",
        "colab_type": "code",
        "colab": {
          "base_uri": "https://localhost:8080/",
          "height": 107
        },
        "outputId": "d7def172-566a-4bdc-e119-ec11ec1af7ae"
      },
      "source": [
        "import pandas as pd\n",
        "import pickle\n",
        "import numpy as np\n",
        "import urllib.request\n",
        "\n",
        "from sklearn.metrics import accuracy_score\n",
        "from sklearn.preprocessing import LabelEncoder\n",
        "from sklearn.model_selection import train_test_split\n",
        "from sklearn.svm import SVC\n",
        "from sklearn.metrics import classification_report,confusion_matrix, plot_confusion_matrix\n",
        "from imblearn.over_sampling import *\n"
      ],
      "execution_count": 3,
      "outputs": [
        {
          "output_type": "stream",
          "text": [
            "/usr/local/lib/python3.6/dist-packages/sklearn/externals/six.py:31: FutureWarning: The module is deprecated in version 0.21 and will be removed in version 0.23 since we've dropped support for Python 2.7. Please rely on the official version of six (https://pypi.org/project/six/).\n",
            "  \"(https://pypi.org/project/six/).\", FutureWarning)\n",
            "/usr/local/lib/python3.6/dist-packages/sklearn/utils/deprecation.py:144: FutureWarning: The sklearn.neighbors.base module is  deprecated in version 0.22 and will be removed in version 0.24. The corresponding classes / functions should instead be imported from sklearn.neighbors. Anything that cannot be imported from sklearn.neighbors is now part of the private API.\n",
            "  warnings.warn(message, FutureWarning)\n"
          ],
          "name": "stderr"
        }
      ]
    },
    {
      "cell_type": "code",
      "metadata": {
        "id": "KbxEifig4O9v",
        "colab_type": "code",
        "colab": {
          "base_uri": "https://localhost:8080/",
          "height": 34
        },
        "outputId": "40a9fbcc-a916-437f-8a36-45eef3b1e964"
      },
      "source": [
        "urllib.request.urlretrieve(\"https://raw.githubusercontent.com/virufy/covid/master/data/labels.csv\", \"labels.csv\")\n",
        "urllib.request.urlretrieve(\"https://raw.githubusercontent.com/virufy/covid/master/data/crowdsource.csv\", \"crowdsource.csv\")"
      ],
      "execution_count": 4,
      "outputs": [
        {
          "output_type": "execute_result",
          "data": {
            "text/plain": [
              "('labels.csv', <http.client.HTTPMessage at 0x7f54c302eac8>)"
            ]
          },
          "metadata": {
            "tags": []
          },
          "execution_count": 4
        }
      ]
    },
    {
      "cell_type": "markdown",
      "metadata": {
        "id": "siEXDAFxjmfl",
        "colab_type": "text"
      },
      "source": [
        "## **Main class**"
      ]
    },
    {
      "cell_type": "code",
      "metadata": {
        "id": "L2f4N-5Oe8-K",
        "colab_type": "code",
        "colab": {}
      },
      "source": [
        "class Text():\n",
        "  \"\"\"\n",
        "  This is a class for training , preprcoessing data and testing the text model data using testData provided\n",
        "  \"\"\"\n",
        "\n",
        "  def __init__(self, model_file = None):\n",
        "    if model_file:\n",
        "      self.model = pickle.load(open(model_file, 'rb'))\n",
        "\n",
        "\n",
        "  def preprocess(csv_file, mode=None):\n",
        "    if mode==\"crowdsource\":\n",
        "      return Text.preprocess_crowdsource(csv_file)\n",
        "\n",
        "    elif mode==\"clinical\":\n",
        "      return Text.preprocess_clinical(csv_file)\n",
        "\n",
        "    else:\n",
        "      return Text.preprocess_none(csv_file)\n",
        "\n",
        "  def preprocess_none(csv_file):\n",
        "      df = pd.read_csv(csv_file)\n",
        "      y = df[\"corona_test\"] \n",
        "      x = df.drop(columns = [\"corona_test\"])\n",
        "      return x,y\n",
        "\n",
        "  def preprocess_crowdsource(in_file):\n",
        "    labels_df = pd.read_csv(in_file)\n",
        "    \n",
        "    try:\n",
        "      labels_df = labels_df.drop(columns=[\"cough_audio\", \"breath_audio\", \"consent\", \"test\", \"id\", \"email\", \"userid\", \"medical_history9\", \"reported_symptoms12\", \"country\", \"dt\", \"count_audio\"])\n",
        "    except:\n",
        "      pass\n",
        "\n",
        "    symptom_list = list(filter(lambda column : \"symptoms\" in column, list(labels_df.columns)))\n",
        "    medical_history = list(filter(lambda column : \"history\" in column, list(labels_df.columns)))\n",
        "\n",
        "\n",
        "    labels_df[symptom_list] = labels_df[symptom_list].fillna(0)\n",
        "    labels_df[medical_history] = labels_df[medical_history].fillna(0)\n",
        "\n",
        "    for column in medical_history:\n",
        "      labels_df[column] = pd.to_numeric(labels_df[column], errors='coerce').fillna(1, downcast='infer')\n",
        "\n",
        "    for column in symptom_list:\n",
        "      labels_df[column] = pd.to_numeric(labels_df[column], errors='coerce').fillna(1, downcast='infer')\n",
        "\n",
        "    labels_df[\"age\"] = pd.to_numeric(labels_df[\"age\"], errors='coerce').dropna()\n",
        "\n",
        "\n",
        "    labels_df = labels_df[labels_df.condition != \"pending\"]\n",
        "\n",
        "\n",
        "    labels_df.dropna(subset = [\"condition\",\"gender\", \"age\"] , inplace=True)\n",
        "\n",
        "\n",
        "    labels_df['condition'] = LabelEncoder().fit_transform(labels_df['condition'])\n",
        "    labels_df['gender'] = LabelEncoder().fit_transform(labels_df['gender'])\n",
        "    labels_df['smoker'] = LabelEncoder().fit_transform(labels_df['gender'])\n",
        "    \n",
        "\n",
        "    target_labels = labels_df[\"condition\"] \n",
        "    newdf = labels_df.drop(columns = [\"condition\"])\n",
        "    newdf = labels_df.drop(columns = [\"reported_symptoms11\"], errors=\"ignore\")\n",
        "\n",
        "    newdf['medical_history1'] = 0\n",
        "    newdf['reported_symptoms6'] = 0\n",
        "\n",
        "    newdf.sort_index(axis=1, inplace=True)\n",
        "\n",
        "    newdf.to_csv(\"crowdsource.csv\")\n",
        "\n",
        "    return newdf, target_labels\n",
        "\n",
        "\n",
        "  def preprocess_clinical(in_file):\n",
        "    labels_f = in_file\n",
        "    labels_df = pd.read_csv(labels_f)\n",
        "    #dropping the columns unrealted to the text model\n",
        "    try:\n",
        "      labels_df = labels_df.drop(columns=[\"date\", \"cough_filename\"])\n",
        "    except:\n",
        "      pass\n",
        "\n",
        "    #removing the columns which does not contain the information on covid tests\n",
        "    labels_df[\"corona_test\"].fillna(\"None\", inplace = True) \n",
        "    labels_df = labels_df.drop(labels_df[labels_df.corona_test == \"None\"].index)\n",
        "\n",
        "    #replacing the empty values with None\n",
        "    labels_df [\"smoker\"].fillna(\"None\", inplace = True) \n",
        "    labels_df [\"patient_reported_symptoms\"].fillna(\"None\", inplace = True)\n",
        "    labels_df ['age'].fillna(\"None\", inplace = True)\n",
        "    labels_df ['gender'].fillna(\"None\", inplace = True)\n",
        "    labels_df ['medical_history'].fillna(\"None\", inplace = True)\n",
        "    labels_df.dropna()\n",
        "\n",
        "    #CORONA_TEST\n",
        "    newdf= labels_df.replace(to_replace =\"negative\", \n",
        "                    value =0)\n",
        "    newdf = newdf.replace(to_replace =\"positive\", \n",
        "                    value =1)\n",
        "    newdf= newdf.replace(to_replace =\"FALSE\", \n",
        "                    value =0)\n",
        "    newdf = newdf.replace(to_replace =\"TRUE\", \n",
        "                    value =1)\n",
        "\n",
        "    #AGE\n",
        "    newdf['age'] = LabelEncoder().fit_transform(newdf['age'])\n",
        "\n",
        "    #Gender\n",
        "    newdf['gender'] = newdf['gender'].str.lower()\n",
        "    newdf['gender'] = LabelEncoder().fit_transform(newdf['gender'])\n",
        "\n",
        "    #medical_history\n",
        "    newdf[\"medical_history\"] = newdf[\"medical_history\"].str.lower()\n",
        "    med_history = ['None,', 'congestive heart failure,','disease or conditions that make it harder to cough,', \\\n",
        "                        'asthma or chronic lung disease,','pregnancy,', 'diabetes with complications,']\n",
        "        \n",
        "    for mh in med_history:\n",
        "        newdf[mh] = newdf.medical_history.str.contains(mh).astype(int)\n",
        "        newdf[\"medical_history\"] = newdf.medical_history.str.replace(mh+ \",\", \"\")\n",
        "\n",
        "    newdf = newdf.drop(columns = [\"medical_history\"])\n",
        "\n",
        "    #smoker\n",
        "    newdf['smoker'] = LabelEncoder().fit_transform(newdf['smoker'])\n",
        "\n",
        "    #symptoms\n",
        "    newdf['patient_reported_symptoms'] = newdf['patient_reported_symptoms'].str.lower()\n",
        "\n",
        "    symptoms = ['fever, chills, or sweating,', 'shortness of breath,', \\\n",
        "                      'new or worsening cough,','sore throat,', 'body aches,', \\\n",
        "                      'loss of taste,', 'loss of smell,', 'none,']\n",
        "    for ps in symptoms:\n",
        "        newdf[ps] = newdf.patient_reported_symptoms.str.contains(ps).astype(int)\n",
        "        newdf[\"patient_reported_symptoms\"] = newdf.patient_reported_symptoms.str.replace(ps+ \",\", \"\")\n",
        "\n",
        "    newdf = newdf.drop(columns = [\"patient_reported_symptoms\"])\n",
        "\n",
        "    target_labels = newdf[\"corona_test\"] \n",
        "    newdf = newdf.drop(columns = [\"corona_test\"])\n",
        "\n",
        "    newdf.drop(newdf.columns[newdf.columns.str.contains('unnamed',case = False)],axis = 1, inplace = True)\n",
        "\n",
        "    newdf.rename(columns={\"congestive heart failure,\": \"medical_history5\",\n",
        "                          \"disease or conditions that make it harder to cough,\" : \"medical_history4\",\n",
        "                          \"asthma or chronic lung disease,\": \"medical_history1\", \n",
        "                          'pregnancy,': \"medical_history2\",\n",
        "                          'diabetes with complications,': \"medical_history3\",\n",
        "                          'fever, chills, or sweating,': \"reported_symptoms3\",\n",
        "                          'shortness of breath,': \"reported_symptoms2\",\n",
        "                          'new or worsening cough,': \"reported_symptoms1\",\n",
        "                          'sore throat,': \"reported_symptoms4\",\n",
        "                          'body aches,': \"reported_symptoms5\",\n",
        "                          'loss of taste,': \"reported_symptoms6\",\n",
        "                          'loss of smell,': \"reported_symptoms7\"}, inplace=True)\n",
        "    \n",
        "    newdf['medical_history7'] = 0\n",
        "    newdf['medical_history8'] = 0\n",
        "    newdf['reported_symptoms8'] = 0\n",
        "    newdf['reported_symptoms9'] = 0\n",
        "    newdf['reported_symptoms10'] = 0\n",
        "\n",
        "    newdf.drop(columns=[\"None,\",\"none,\"], inplace=True) \n",
        "\n",
        "    newdf.sort_index(axis=1, inplace=True)\n",
        "    \n",
        "    newdf.to_csv(\"clinical_preprocessed.csv\")\n",
        "    \n",
        "    return newdf, target_labels\n",
        "\n",
        "  def split(x, y):\n",
        "    x_train, x_test, y_train, y_test = train_test_split(x, y, test_size=0.2, shuffle=True)\n",
        "\n",
        "    return x_train, y_train, x_test, y_test\n",
        "\n",
        "\n",
        "  def train(self, x_train_orig, y_train_orig, save_path='model.sav'):\n",
        "\n",
        "    \"\"\"\n",
        "    Trains the text model using the trainData \n",
        "    Returns:\n",
        "      a string containing saved model of form .sav\n",
        "    \"\"\"\n",
        "    try:\n",
        "      x_train, y_train = SMOTE(sampling_strategy='minority').fit_resample(x_train_orig, y_train_orig)\n",
        "    except:\n",
        "      x_train, y_train = RandomOverSampler(sampling_strategy='minority').fit_resample(x_train_orig, y_train_orig)\n",
        "\n",
        "    clf = SVC(kernel = \"linear\",C=1, degree = 2, gamma=0.001,random_state=0)\n",
        "    clf.fit(x_train,y_train)\n",
        "\n",
        "    print(\"\\nTraining:\")\n",
        "    print(\"Accuracy: \",end=\"\")\n",
        "    pred = clf.predict(x_train_orig)\n",
        "    accuracy = accuracy_score(y_train_orig, pred)\n",
        "    print(accuracy)\n",
        "    conf_mat = confusion_matrix(y_train_orig, pred)\n",
        "    print(conf_mat)\n",
        "\n",
        "    self.model = clf\n",
        "    pickle.dump(clf, open(save_path, 'wb'))\n",
        "  \n",
        "\n",
        "  def predict(self, x_test, y_test):\n",
        "    \"\"\"\n",
        "    Predict for covid positive or negative using the saved model \n",
        "    Returns: \n",
        "      bool value depecting positive and negative covid results \n",
        "    \"\"\"\n",
        "    \n",
        "    pred = self.model.predict(x_test)\n",
        "    print(pred)\n",
        "    accuracy = accuracy_score(y_test,pred)\n",
        "    print(\"Accuracy on test dataset : \", accuracy)\n",
        "    conf_mat = confusion_matrix(y_test,pred)\n",
        "    print(\"Confusion matrix :\\n\", conf_mat)\n",
        "    print(\"Classification report \\n\", classification_report(y_test, pred))\n",
        "    \n",
        "    return pred"
      ],
      "execution_count": 6,
      "outputs": []
    },
    {
      "cell_type": "markdown",
      "metadata": {
        "id": "967bW145ukP9",
        "colab_type": "text"
      },
      "source": [
        "## Run the Model"
      ]
    },
    {
      "cell_type": "markdown",
      "metadata": {
        "id": "0kR9u9ftgSiJ",
        "colab_type": "text"
      },
      "source": [
        "### Clinical Data"
      ]
    },
    {
      "cell_type": "code",
      "metadata": {
        "id": "JN0WBNiNsywd",
        "colab_type": "code",
        "colab": {
          "base_uri": "https://localhost:8080/",
          "height": 463
        },
        "outputId": "7851f6d6-c863-4d96-dc38-572e86d44d54"
      },
      "source": [
        "filename = \"labels.csv\"\n",
        "if __name__ == \"__main__\":\n",
        "  text = Text()\n",
        "  x, y = Text.preprocess(csv_file=filename, mode=\"clinical\")\n",
        "  x_train, y_train, x_test, y_test = Text.split(x, y)\n",
        "\n",
        "  text.train(x_train, y_train, \"text-model.sav\")\n",
        "  prediction = text.predict(x_test, y_test)"
      ],
      "execution_count": 9,
      "outputs": [
        {
          "output_type": "stream",
          "text": [
            "\n",
            "Training:\n",
            "Accuracy: 1.0\n",
            "[[6 0]\n",
            " [0 6]]\n",
            "[0 0 0 0]\n",
            "Accuracy on test dataset :  0.75\n",
            "Confusion matrix :\n",
            " [[3 0]\n",
            " [1 0]]\n",
            "Classification report \n",
            "               precision    recall  f1-score   support\n",
            "\n",
            "           0       0.75      1.00      0.86         3\n",
            "           1       0.00      0.00      0.00         1\n",
            "\n",
            "    accuracy                           0.75         4\n",
            "   macro avg       0.38      0.50      0.43         4\n",
            "weighted avg       0.56      0.75      0.64         4\n",
            "\n"
          ],
          "name": "stdout"
        },
        {
          "output_type": "stream",
          "text": [
            "/usr/local/lib/python3.6/dist-packages/sklearn/utils/deprecation.py:87: FutureWarning: Function safe_indexing is deprecated; safe_indexing is deprecated in version 0.22 and will be removed in version 0.24.\n",
            "  warnings.warn(msg, category=FutureWarning)\n",
            "/usr/local/lib/python3.6/dist-packages/sklearn/metrics/_classification.py:1272: UndefinedMetricWarning: Precision and F-score are ill-defined and being set to 0.0 in labels with no predicted samples. Use `zero_division` parameter to control this behavior.\n",
            "  _warn_prf(average, modifier, msg_start, len(result))\n"
          ],
          "name": "stderr"
        }
      ]
    },
    {
      "cell_type": "code",
      "metadata": {
        "id": "RhFwtFZ0GZii",
        "colab_type": "code",
        "colab": {}
      },
      "source": [
        ""
      ],
      "execution_count": null,
      "outputs": []
    },
    {
      "cell_type": "markdown",
      "metadata": {
        "colab_type": "text",
        "id": "bXKH7HoTgZlT"
      },
      "source": [
        "### Crowdsourced Data"
      ]
    },
    {
      "cell_type": "code",
      "metadata": {
        "colab_type": "code",
        "id": "-gQ37L3MgZlW",
        "colab": {
          "base_uri": "https://localhost:8080/",
          "height": 427
        },
        "outputId": "b0a13c91-8ba6-48af-bc25-1dbd42f9bd12"
      },
      "source": [
        "filename = \"crowdsource.csv\"\n",
        "if __name__ == \"__main__\":\n",
        "  text = Text()\n",
        "  x, y = Text.preprocess(csv_file=filename, mode=\"crowdsource\")\n",
        "  x_train, y_train, x_test, y_test = Text.split(x, y)\n",
        "\n",
        "  text.train(x_train, y_train, \"text-model.sav\")\n",
        "  prediction = text.predict(x_test, y_test)"
      ],
      "execution_count": 11,
      "outputs": [
        {
          "output_type": "stream",
          "text": [
            "\n",
            "Training:\n",
            "Accuracy: 1.0\n",
            "[[6 0]\n",
            " [0 1]]\n",
            "[0 1]\n",
            "Accuracy on test dataset :  1.0\n",
            "Confusion matrix :\n",
            " [[1 0]\n",
            " [0 1]]\n",
            "Classification report \n",
            "               precision    recall  f1-score   support\n",
            "\n",
            "           0       1.00      1.00      1.00         1\n",
            "           1       1.00      1.00      1.00         1\n",
            "\n",
            "    accuracy                           1.00         2\n",
            "   macro avg       1.00      1.00      1.00         2\n",
            "weighted avg       1.00      1.00      1.00         2\n",
            "\n"
          ],
          "name": "stdout"
        },
        {
          "output_type": "stream",
          "text": [
            "/usr/local/lib/python3.6/dist-packages/sklearn/utils/deprecation.py:87: FutureWarning: Function safe_indexing is deprecated; safe_indexing is deprecated in version 0.22 and will be removed in version 0.24.\n",
            "  warnings.warn(msg, category=FutureWarning)\n"
          ],
          "name": "stderr"
        }
      ]
    }
  ]
}