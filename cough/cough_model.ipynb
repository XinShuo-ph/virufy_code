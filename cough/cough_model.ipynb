{
  "nbformat": 4,
  "nbformat_minor": 0,
  "metadata": {
    "colab": {
      "name": "DNN_Dec20.ipynb",
      "provenance": [],
      "collapsed_sections": []
    },
    "kernelspec": {
      "name": "python3",
      "display_name": "Python 3"
    }
  },
  "cells": [
    {
      "cell_type": "code",
      "metadata": {
        "id": "TLVeX4JFVq9F"
      },
      "source": [
        "import tensorflow as tf\n",
        "from tensorflow import keras\n",
        "from tensorflow.keras import layers\n",
        "from keras import Sequential,Model\n",
        "from keras.layers import concatenate,Activation, Dense, Dropout, Conv2D, Flatten, MaxPooling2D, GlobalMaxPooling2D, GlobalAveragePooling1D, AveragePooling2D, Input, Add, BatchNormalization\n",
        "from keras.preprocessing.image import ImageDataGenerator\n",
        "from keras.models import model_from_json\n",
        "from sklearn.metrics import roc_curve\n",
        "from keras.utils import np_utils\n",
        "from tqdm import tqdm\n",
        "import pandas as pd\n",
        "import numpy as np\n",
        "import librosa \n",
        "import librosa.display\n",
        "import pylab\n",
        "import cv2\n",
        "import os"
      ],
      "execution_count": null,
      "outputs": []
    },
    {
      "cell_type": "markdown",
      "metadata": {
        "id": "SYfja4naeas9"
      },
      "source": [
        "---\n",
        "# 1-Prepare Data\n",
        "---\n",
        "\n"
      ]
    },
    {
      "cell_type": "markdown",
      "metadata": {
        "id": "-kR2CxYJcCzz"
      },
      "source": [
        "## Download Data"
      ]
    },
    {
      "cell_type": "code",
      "metadata": {
        "colab": {
          "base_uri": "https://localhost:8080/"
        },
        "id": "PteAAgv6btxi",
        "outputId": "4cd2a897-8e38-44f3-dd9c-fe0f0821127f"
      },
      "source": [
        "!git clone https://github.com/iiscleap/Coswara-Data.git"
      ],
      "execution_count": null,
      "outputs": [
        {
          "output_type": "stream",
          "text": [
            "fatal: destination path 'Coswara-Data' already exists and is not an empty directory.\n"
          ],
          "name": "stdout"
        }
      ]
    },
    {
      "cell_type": "code",
      "metadata": {
        "id": "DQjUs7MScCyX",
        "colab": {
          "base_uri": "https://localhost:8080/"
        },
        "outputId": "6e4cfd74-2135-47a4-b360-993663951007"
      },
      "source": [
        "rt_dir = '/content/Coswara-Data'\n",
        "import glob\n",
        "for each in os.listdir(rt_dir):\n",
        "    if os.path.isdir(os.path.join(rt_dir,each)) and each != '.git':\n",
        "        print(each)\n",
        "        !cat {os.path.join(rt_dir, each,'')}*.tar.gz.* > {os.path.join(rt_dir, each,'')}combined_file.tar.gz\n",
        "        !tar -xzf {os.path.join(rt_dir, each,'')}combined_file.tar.gz -C {rt_dir}\n",
        "subset = glob.glob('/content/Coswara-Data/*/*.tar.gz.*') + glob.glob('/content/Coswara-Data/*/combined_data.tar.gz')\n",
        "[os.remove(x) for x in subset];"
      ],
      "execution_count": null,
      "outputs": [
        {
          "output_type": "stream",
          "text": [
            "20200417\n",
            "cat: '/content/Coswara-Data/20200417/*.tar.gz.*': No such file or directory\n",
            "\n",
            "gzip: stdin: unexpected end of file\n",
            "tar: Child returned status 1\n",
            "tar: Error is not recoverable: exiting now\n",
            "20200504\n",
            "cat: '/content/Coswara-Data/20200504/*.tar.gz.*': No such file or directory\n",
            "\n",
            "gzip: stdin: unexpected end of file\n",
            "tar: Child returned status 1\n",
            "tar: Error is not recoverable: exiting now\n",
            "20200419\n",
            "cat: '/content/Coswara-Data/20200419/*.tar.gz.*': No such file or directory\n",
            "\n",
            "gzip: stdin: unexpected end of file\n",
            "tar: Child returned status 1\n",
            "tar: Error is not recoverable: exiting now\n",
            "20200415\n",
            "cat: '/content/Coswara-Data/20200415/*.tar.gz.*': No such file or directory\n",
            "\n",
            "gzip: stdin: unexpected end of file\n",
            "tar: Child returned status 1\n",
            "tar: Error is not recoverable: exiting now\n",
            "20200911\n",
            "cat: '/content/Coswara-Data/20200911/*.tar.gz.*': No such file or directory\n",
            "\n",
            "gzip: stdin: unexpected end of file\n",
            "tar: Child returned status 1\n",
            "tar: Error is not recoverable: exiting now\n",
            "20200803\n",
            "cat: '/content/Coswara-Data/20200803/*.tar.gz.*': No such file or directory\n",
            "\n",
            "gzip: stdin: unexpected end of file\n",
            "tar: Child returned status 1\n",
            "tar: Error is not recoverable: exiting now\n",
            "20200502\n",
            "cat: '/content/Coswara-Data/20200502/*.tar.gz.*': No such file or directory\n",
            "\n",
            "gzip: stdin: unexpected end of file\n",
            "tar: Child returned status 1\n",
            "tar: Error is not recoverable: exiting now\n",
            "20200413\n",
            "cat: '/content/Coswara-Data/20200413/*.tar.gz.*': No such file or directory\n",
            "\n",
            "gzip: stdin: unexpected end of file\n",
            "tar: Child returned status 1\n",
            "tar: Error is not recoverable: exiting now\n",
            "20201031\n",
            "cat: '/content/Coswara-Data/20201031/*.tar.gz.*': No such file or directory\n",
            "\n",
            "gzip: stdin: unexpected end of file\n",
            "tar: Child returned status 1\n",
            "tar: Error is not recoverable: exiting now\n",
            "20200604\n",
            "cat: '/content/Coswara-Data/20200604/*.tar.gz.*': No such file or directory\n",
            "\n",
            "gzip: stdin: unexpected end of file\n",
            "tar: Child returned status 1\n",
            "tar: Error is not recoverable: exiting now\n",
            "20200824\n",
            "cat: '/content/Coswara-Data/20200824/*.tar.gz.*': No such file or directory\n",
            "\n",
            "gzip: stdin: unexpected end of file\n",
            "tar: Child returned status 1\n",
            "tar: Error is not recoverable: exiting now\n",
            "20200707\n",
            "cat: '/content/Coswara-Data/20200707/*.tar.gz.*': No such file or directory\n",
            "\n",
            "gzip: stdin: unexpected end of file\n",
            "tar: Child returned status 1\n",
            "tar: Error is not recoverable: exiting now\n",
            "20200919\n",
            "cat: '/content/Coswara-Data/20200919/*.tar.gz.*': No such file or directory\n",
            "\n",
            "gzip: stdin: unexpected end of file\n",
            "tar: Child returned status 1\n",
            "tar: Error is not recoverable: exiting now\n",
            "20200418\n",
            "cat: '/content/Coswara-Data/20200418/*.tar.gz.*': No such file or directory\n",
            "\n",
            "gzip: stdin: unexpected end of file\n",
            "tar: Child returned status 1\n",
            "tar: Error is not recoverable: exiting now\n",
            "20201012\n",
            "cat: '/content/Coswara-Data/20201012/*.tar.gz.*': No such file or directory\n",
            "\n",
            "gzip: stdin: unexpected end of file\n",
            "tar: Child returned status 1\n",
            "tar: Error is not recoverable: exiting now\n",
            "20200814\n",
            "cat: '/content/Coswara-Data/20200814/*.tar.gz.*': No such file or directory\n",
            "\n",
            "gzip: stdin: unexpected end of file\n",
            "tar: Child returned status 1\n",
            "tar: Error is not recoverable: exiting now\n",
            "20200424\n",
            "cat: '/content/Coswara-Data/20200424/*.tar.gz.*': No such file or directory\n",
            "\n",
            "gzip: stdin: unexpected end of file\n",
            "tar: Child returned status 1\n",
            "tar: Error is not recoverable: exiting now\n",
            "20200720\n",
            "cat: '/content/Coswara-Data/20200720/*.tar.gz.*': No such file or directory\n",
            "\n",
            "gzip: stdin: unexpected end of file\n",
            "tar: Child returned status 1\n",
            "tar: Error is not recoverable: exiting now\n",
            "20200901\n",
            "cat: '/content/Coswara-Data/20200901/*.tar.gz.*': No such file or directory\n",
            "\n",
            "gzip: stdin: unexpected end of file\n",
            "tar: Child returned status 1\n",
            "tar: Error is not recoverable: exiting now\n",
            "20200416\n",
            "cat: '/content/Coswara-Data/20200416/*.tar.gz.*': No such file or directory\n",
            "\n",
            "gzip: stdin: unexpected end of file\n",
            "tar: Child returned status 1\n",
            "tar: Error is not recoverable: exiting now\n",
            "20200820\n",
            "cat: '/content/Coswara-Data/20200820/*.tar.gz.*': No such file or directory\n",
            "\n",
            "gzip: stdin: unexpected end of file\n",
            "tar: Child returned status 1\n",
            "tar: Error is not recoverable: exiting now\n",
            "20201130\n",
            "cat: '/content/Coswara-Data/20201130/*.tar.gz.*': No such file or directory\n",
            "\n",
            "gzip: stdin: unexpected end of file\n",
            "tar: Child returned status 1\n",
            "tar: Error is not recoverable: exiting now\n",
            "20200930\n",
            "cat: '/content/Coswara-Data/20200930/*.tar.gz.*': No such file or directory\n",
            "\n",
            "gzip: stdin: unexpected end of file\n",
            "tar: Child returned status 1\n",
            "tar: Error is not recoverable: exiting now\n",
            "20200505\n",
            "cat: '/content/Coswara-Data/20200505/*.tar.gz.*': No such file or directory\n",
            "\n",
            "gzip: stdin: unexpected end of file\n",
            "tar: Child returned status 1\n",
            "tar: Error is not recoverable: exiting now\n",
            "20200525\n",
            "cat: '/content/Coswara-Data/20200525/*.tar.gz.*': No such file or directory\n",
            "\n",
            "gzip: stdin: unexpected end of file\n",
            "tar: Child returned status 1\n",
            "tar: Error is not recoverable: exiting now\n",
            "20200430\n",
            "cat: '/content/Coswara-Data/20200430/*.tar.gz.*': No such file or directory\n",
            "\n",
            "gzip: stdin: unexpected end of file\n",
            "tar: Child returned status 1\n",
            "tar: Error is not recoverable: exiting now\n"
          ],
          "name": "stdout"
        }
      ]
    },
    {
      "cell_type": "code",
      "metadata": {
        "colab": {
          "base_uri": "https://localhost:8080/"
        },
        "id": "ItIYcUjHgi9z",
        "outputId": "40903f9b-cb28-472a-f5ef-c372f63b649e"
      },
      "source": [
        "!wget https://zenodo.org/record/4048312/files/public_dataset.zip?download=1\r\n",
        "!mv public_dataset.zip?download=1 public_dataset.zip\r\n",
        "!unzip -q public_dataset.zip\r\n",
        "!mkdir 'custom_dataset'"
      ],
      "execution_count": null,
      "outputs": [
        {
          "output_type": "stream",
          "text": [
            "--2020-12-09 23:44:53--  https://zenodo.org/record/4048312/files/public_dataset.zip?download=1\n",
            "Resolving zenodo.org (zenodo.org)... 137.138.76.77\n",
            "Connecting to zenodo.org (zenodo.org)|137.138.76.77|:443... connected.\n",
            "HTTP request sent, awaiting response... 200 OK\n",
            "Length: 951442487 (907M) [application/octet-stream]\n",
            "Saving to: ‘public_dataset.zip?download=1’\n",
            "\n",
            "public_dataset.zip? 100%[===================>] 907.37M  23.3MB/s    in 74s     \n",
            "\n",
            "2020-12-09 23:46:09 (12.2 MB/s) - ‘public_dataset.zip?download=1’ saved [951442487/951442487]\n",
            "\n",
            "mkdir: cannot create directory ‘custom_dataset’: File exists\n"
          ],
          "name": "stdout"
        }
      ]
    },
    {
      "cell_type": "code",
      "metadata": {
        "id": "wsLmzEc9l65j",
        "colab": {
          "base_uri": "https://localhost:8080/",
          "height": 214
        },
        "outputId": "d5327fa2-6e18-47c7-c1a1-b191aaa759c7"
      },
      "source": [
        "names   = ['ID','Fever/MP','ORC','STATUS','DIR','DataSet']\n",
        "join_by = pd.read_csv('/content/Coswara-Data/combined_data.csv')\n",
        "\n",
        "import glob\n",
        "df_list = []\n",
        "for path in tqdm(glob.glob('/content/Coswara-Data/*/*/cough-shallow.wav')):\n",
        "  temp = pd.DataFrame(columns=['id','DIR'])\n",
        "  temp['id'] = [path.split('/')[-2]]\n",
        "  temp['DIR'] = [path]\n",
        "  temp = pd.merge(left=temp,right=join_by,on='id',how='inner')\n",
        "\n",
        "  temp['fomp']= (temp['fever']| temp['mp']).apply(int)\n",
        "  temp['oths']= (temp['cld']|temp['asthma']|temp['cold']|temp['st']|temp['pneumonia']).apply(int)\n",
        "  temp        = temp[['id','covid_status','DIR','fomp','oths']]\n",
        "  df_list.append(temp.rename(columns={'id':'ID','covid_status':'STATUS','DIR':'DIR','fomp':'Fever/MP','oths':'ORC'}))\n",
        "CosData=pd.concat(df_list)\n",
        "CosData['DataSet'] = 'coswara'\n",
        "CosData.head()"
      ],
      "execution_count": null,
      "outputs": [
        {
          "output_type": "stream",
          "text": [
            "100%|██████████| 1458/1458 [00:16<00:00, 89.83it/s]\n"
          ],
          "name": "stderr"
        },
        {
          "output_type": "execute_result",
          "data": {
            "text/html": [
              "<div>\n",
              "<style scoped>\n",
              "    .dataframe tbody tr th:only-of-type {\n",
              "        vertical-align: middle;\n",
              "    }\n",
              "\n",
              "    .dataframe tbody tr th {\n",
              "        vertical-align: top;\n",
              "    }\n",
              "\n",
              "    .dataframe thead th {\n",
              "        text-align: right;\n",
              "    }\n",
              "</style>\n",
              "<table border=\"1\" class=\"dataframe\">\n",
              "  <thead>\n",
              "    <tr style=\"text-align: right;\">\n",
              "      <th></th>\n",
              "      <th>ID</th>\n",
              "      <th>STATUS</th>\n",
              "      <th>DIR</th>\n",
              "      <th>Fever/MP</th>\n",
              "      <th>ORC</th>\n",
              "      <th>DataSet</th>\n",
              "    </tr>\n",
              "  </thead>\n",
              "  <tbody>\n",
              "    <tr>\n",
              "      <th>0</th>\n",
              "      <td>OAtQ58EyToOK0NsnlDdwpFnrwF63</td>\n",
              "      <td>healthy</td>\n",
              "      <td>/content/Coswara-Data/20200417/OAtQ58EyToOK0Ns...</td>\n",
              "      <td>0</td>\n",
              "      <td>0</td>\n",
              "      <td>coswara</td>\n",
              "    </tr>\n",
              "    <tr>\n",
              "      <th>0</th>\n",
              "      <td>JeM753cUNJdIV37vCj94583kYCE2</td>\n",
              "      <td>healthy</td>\n",
              "      <td>/content/Coswara-Data/20200417/JeM753cUNJdIV37...</td>\n",
              "      <td>0</td>\n",
              "      <td>0</td>\n",
              "      <td>coswara</td>\n",
              "    </tr>\n",
              "    <tr>\n",
              "      <th>0</th>\n",
              "      <td>5nQ62bLiPbamvooxCdu7eLFCaDm1</td>\n",
              "      <td>resp_illness_not_identified</td>\n",
              "      <td>/content/Coswara-Data/20200417/5nQ62bLiPbamvoo...</td>\n",
              "      <td>0</td>\n",
              "      <td>0</td>\n",
              "      <td>coswara</td>\n",
              "    </tr>\n",
              "    <tr>\n",
              "      <th>0</th>\n",
              "      <td>h6fnYcaAXxMQWF7H5QbSx4PVajk1</td>\n",
              "      <td>healthy</td>\n",
              "      <td>/content/Coswara-Data/20200417/h6fnYcaAXxMQWF7...</td>\n",
              "      <td>0</td>\n",
              "      <td>0</td>\n",
              "      <td>coswara</td>\n",
              "    </tr>\n",
              "    <tr>\n",
              "      <th>0</th>\n",
              "      <td>5ulPmiY2NpQMXjnjn5w8unXOOnl2</td>\n",
              "      <td>healthy</td>\n",
              "      <td>/content/Coswara-Data/20200417/5ulPmiY2NpQMXjn...</td>\n",
              "      <td>0</td>\n",
              "      <td>0</td>\n",
              "      <td>coswara</td>\n",
              "    </tr>\n",
              "  </tbody>\n",
              "</table>\n",
              "</div>"
            ],
            "text/plain": [
              "                             ID                       STATUS  ... ORC  DataSet\n",
              "0  OAtQ58EyToOK0NsnlDdwpFnrwF63                      healthy  ...   0  coswara\n",
              "0  JeM753cUNJdIV37vCj94583kYCE2                      healthy  ...   0  coswara\n",
              "0  5nQ62bLiPbamvooxCdu7eLFCaDm1  resp_illness_not_identified  ...   0  coswara\n",
              "0  h6fnYcaAXxMQWF7H5QbSx4PVajk1                      healthy  ...   0  coswara\n",
              "0  5ulPmiY2NpQMXjnjn5w8unXOOnl2                      healthy  ...   0  coswara\n",
              "\n",
              "[5 rows x 6 columns]"
            ]
          },
          "metadata": {
            "tags": []
          },
          "execution_count": 14
        }
      ]
    },
    {
      "cell_type": "markdown",
      "metadata": {
        "id": "IWd7TgddcLCi"
      },
      "source": [
        "## Prepare dataset"
      ]
    },
    {
      "cell_type": "code",
      "metadata": {
        "id": "vhG5icIXtP9R",
        "colab": {
          "base_uri": "https://localhost:8080/",
          "height": 197
        },
        "outputId": "06712e4b-3198-40c6-9c5e-1ca281191880"
      },
      "source": [
        "coughvid  = '/content/public_dataset/'\n",
        "custpath  = '/content/custom_dataset/' #Where mel spec images will be stored\n",
        "\n",
        "VidData   = pd.read_csv(os.path.join(coughvid,'metadata_compiled.csv'),header=0)\n",
        "VidData   = VidData.loc[VidData['cough_detected'] >= 0.9][['uuid','fever_muscle_pain','respiratory_condition','status']]\n",
        "VidData.dropna(inplace=True)\n",
        "\n",
        "extradata = VidData.loc[VidData['status']=='COVID-19']\n",
        "notradata = VidData.loc[VidData['status']!='COVID-19'][0:1000]\n",
        "\n",
        "TotData   = pd.concat([extradata,notradata],ignore_index= True)\n",
        "TotData['DIR'] = coughvid + TotData['uuid'] + '.webm'\n",
        "TotData['DataSet'] = 'coughvid'\n",
        "TotData['fever_muscle_pain']    = TotData['fever_muscle_pain'].apply(int)\n",
        "TotData['respiratory_condition']= TotData['respiratory_condition'].apply(int)\n",
        "TotData   = pd.concat([CosData,TotData.rename(columns={'uuid':'ID','status':'STATUS','fever_muscle_pain':'Fever/MP','respiratory_condition':'ORC'})])\n",
        "TotData   = TotData.sample(frac=1).reset_index(drop=True)\n",
        "TotData.head()"
      ],
      "execution_count": null,
      "outputs": [
        {
          "output_type": "execute_result",
          "data": {
            "text/html": [
              "<div>\n",
              "<style scoped>\n",
              "    .dataframe tbody tr th:only-of-type {\n",
              "        vertical-align: middle;\n",
              "    }\n",
              "\n",
              "    .dataframe tbody tr th {\n",
              "        vertical-align: top;\n",
              "    }\n",
              "\n",
              "    .dataframe thead th {\n",
              "        text-align: right;\n",
              "    }\n",
              "</style>\n",
              "<table border=\"1\" class=\"dataframe\">\n",
              "  <thead>\n",
              "    <tr style=\"text-align: right;\">\n",
              "      <th></th>\n",
              "      <th>ID</th>\n",
              "      <th>STATUS</th>\n",
              "      <th>DIR</th>\n",
              "      <th>Fever/MP</th>\n",
              "      <th>ORC</th>\n",
              "      <th>DataSet</th>\n",
              "    </tr>\n",
              "  </thead>\n",
              "  <tbody>\n",
              "    <tr>\n",
              "      <th>0</th>\n",
              "      <td>f6fe17fd-c1b9-481e-8586-b40af4b3691b</td>\n",
              "      <td>COVID-19</td>\n",
              "      <td>/content/public_dataset/f6fe17fd-c1b9-481e-858...</td>\n",
              "      <td>0</td>\n",
              "      <td>0</td>\n",
              "      <td>coughvid</td>\n",
              "    </tr>\n",
              "    <tr>\n",
              "      <th>1</th>\n",
              "      <td>011a31c2-9812-4521-aca4-ccb04be99a39</td>\n",
              "      <td>healthy</td>\n",
              "      <td>/content/public_dataset/011a31c2-9812-4521-aca...</td>\n",
              "      <td>0</td>\n",
              "      <td>0</td>\n",
              "      <td>coughvid</td>\n",
              "    </tr>\n",
              "    <tr>\n",
              "      <th>2</th>\n",
              "      <td>LVfs0kH8h3YRSg7J3Y8g3ufC3a53</td>\n",
              "      <td>healthy</td>\n",
              "      <td>/content/Coswara-Data/20200415/LVfs0kH8h3YRSg7...</td>\n",
              "      <td>0</td>\n",
              "      <td>0</td>\n",
              "      <td>coswara</td>\n",
              "    </tr>\n",
              "    <tr>\n",
              "      <th>3</th>\n",
              "      <td>z7RqPeGUQ4X8rxD6ftMf9i4ZE3w2</td>\n",
              "      <td>healthy</td>\n",
              "      <td>/content/Coswara-Data/20200502/z7RqPeGUQ4X8rxD...</td>\n",
              "      <td>0</td>\n",
              "      <td>0</td>\n",
              "      <td>coswara</td>\n",
              "    </tr>\n",
              "    <tr>\n",
              "      <th>4</th>\n",
              "      <td>065aa2a8-7252-4f50-a50c-a464941c9417</td>\n",
              "      <td>healthy</td>\n",
              "      <td>/content/public_dataset/065aa2a8-7252-4f50-a50...</td>\n",
              "      <td>0</td>\n",
              "      <td>0</td>\n",
              "      <td>coughvid</td>\n",
              "    </tr>\n",
              "  </tbody>\n",
              "</table>\n",
              "</div>"
            ],
            "text/plain": [
              "                                     ID    STATUS  ... ORC   DataSet\n",
              "0  f6fe17fd-c1b9-481e-8586-b40af4b3691b  COVID-19  ...   0  coughvid\n",
              "1  011a31c2-9812-4521-aca4-ccb04be99a39   healthy  ...   0  coughvid\n",
              "2          LVfs0kH8h3YRSg7J3Y8g3ufC3a53   healthy  ...   0   coswara\n",
              "3          z7RqPeGUQ4X8rxD6ftMf9i4ZE3w2   healthy  ...   0   coswara\n",
              "4  065aa2a8-7252-4f50-a50c-a464941c9417   healthy  ...   0  coughvid\n",
              "\n",
              "[5 rows x 6 columns]"
            ]
          },
          "metadata": {
            "tags": []
          },
          "execution_count": 16
        }
      ]
    },
    {
      "cell_type": "markdown",
      "metadata": {
        "id": "ZzwONWen17O_"
      },
      "source": [
        "## Feature Extraction"
      ]
    },
    {
      "cell_type": "code",
      "metadata": {
        "id": "SWItHo7ZtR4i"
      },
      "source": [
        "def feature_extractor(row):\n",
        "\n",
        "  name     = row[0]\n",
        "  try:\n",
        "    audio,sr = librosa.load(row[-4])\n",
        "    #For MFCCS \n",
        "    mfccs    = librosa.feature.mfcc(y=audio,sr=sr, n_mfcc=39)\n",
        "    mfccsscaled = np.mean(mfccs.T,axis=0)\n",
        "    \n",
        "    #Mel Spectogram\n",
        "    pylab.axis('off') # no axis\n",
        "    pylab.axes([0., 0., 1., 1.], frameon=False, xticks=[], yticks=[])\n",
        "    melspec  = librosa.feature.melspectrogram(y=audio,sr=sr)\n",
        "    s_db     = librosa.power_to_db(melspec, ref=np.max)\n",
        "    librosa.display.specshow(s_db)\n",
        "\n",
        "    savepath = os.path.join(custpath,name+'.png')\n",
        "    pylab.savefig(savepath, bbox_inches=None, pad_inches=0)\n",
        "    pylab.close()\n",
        "  except:\n",
        "    print('File cannot open')\n",
        "    return None,None\n",
        "  return mfccsscaled,savepath\n",
        "\n",
        "features = []\n",
        "diagnoses= []\n",
        "imgpaths = []"
      ],
      "execution_count": null,
      "outputs": []
    },
    {
      "cell_type": "code",
      "metadata": {
        "id": "B41Td6IM22HJ",
        "colab": {
          "base_uri": "https://localhost:8080/"
        },
        "outputId": "8366208d-c3a0-4398-bf8d-9978e0360069"
      },
      "source": [
        "for row in tqdm(TotData.values):\n",
        "  mfccs,savepath  = feature_extractor(row)\n",
        "  features.append(mfccs)\n",
        "  imgpaths.append(savepath)\n",
        "  diagnoses.append([row[3],row[4]])"
      ],
      "execution_count": null,
      "outputs": [
        {
          "output_type": "stream",
          "text": [
            "  0%|          | 8/2899 [00:08<38:52,  1.24it/s]"
          ],
          "name": "stderr"
        },
        {
          "output_type": "stream",
          "text": [
            "File cannot open\n"
          ],
          "name": "stdout"
        },
        {
          "output_type": "stream",
          "text": [
            "  2%|▏         | 58/2899 [00:44<28:13,  1.68it/s]"
          ],
          "name": "stderr"
        },
        {
          "output_type": "stream",
          "text": [
            "File cannot open\n"
          ],
          "name": "stdout"
        },
        {
          "output_type": "stream",
          "text": [
            "  3%|▎         | 82/2899 [01:00<28:01,  1.68it/s]"
          ],
          "name": "stderr"
        },
        {
          "output_type": "stream",
          "text": [
            "File cannot open\n"
          ],
          "name": "stdout"
        },
        {
          "output_type": "stream",
          "text": [
            "  3%|▎         | 95/2899 [01:09<25:58,  1.80it/s]"
          ],
          "name": "stderr"
        },
        {
          "output_type": "stream",
          "text": [
            "File cannot open\n"
          ],
          "name": "stdout"
        },
        {
          "output_type": "stream",
          "text": [
            "  4%|▍         | 129/2899 [01:32<26:21,  1.75it/s]"
          ],
          "name": "stderr"
        },
        {
          "output_type": "stream",
          "text": [
            "File cannot open\n"
          ],
          "name": "stdout"
        },
        {
          "output_type": "stream",
          "text": [
            "  5%|▍         | 142/2899 [01:42<29:08,  1.58it/s]"
          ],
          "name": "stderr"
        },
        {
          "output_type": "stream",
          "text": [
            "File cannot open\n"
          ],
          "name": "stdout"
        },
        {
          "output_type": "stream",
          "text": [
            "  5%|▌         | 158/2899 [01:54<29:31,  1.55it/s]"
          ],
          "name": "stderr"
        },
        {
          "output_type": "stream",
          "text": [
            "File cannot open\n"
          ],
          "name": "stdout"
        },
        {
          "output_type": "stream",
          "text": [
            " 11%|█         | 310/2899 [04:02<30:04,  1.43it/s]"
          ],
          "name": "stderr"
        },
        {
          "output_type": "stream",
          "text": [
            "File cannot open\n"
          ],
          "name": "stdout"
        },
        {
          "output_type": "stream",
          "text": [
            " 11%|█         | 323/2899 [04:12<26:34,  1.62it/s]"
          ],
          "name": "stderr"
        },
        {
          "output_type": "stream",
          "text": [
            "File cannot open\n"
          ],
          "name": "stdout"
        },
        {
          "output_type": "stream",
          "text": [
            " 12%|█▏        | 354/2899 [04:38<29:15,  1.45it/s]"
          ],
          "name": "stderr"
        },
        {
          "output_type": "stream",
          "text": [
            "File cannot open\n"
          ],
          "name": "stdout"
        },
        {
          "output_type": "stream",
          "text": [
            " 14%|█▍        | 409/2899 [05:24<35:20,  1.17it/s]"
          ],
          "name": "stderr"
        },
        {
          "output_type": "stream",
          "text": [
            "File cannot open\n"
          ],
          "name": "stdout"
        },
        {
          "output_type": "stream",
          "text": [
            " 14%|█▍        | 415/2899 [05:29<27:17,  1.52it/s]"
          ],
          "name": "stderr"
        },
        {
          "output_type": "stream",
          "text": [
            "File cannot open\n"
          ],
          "name": "stdout"
        },
        {
          "output_type": "stream",
          "text": [
            " 15%|█▌        | 435/2899 [05:46<26:49,  1.53it/s]"
          ],
          "name": "stderr"
        },
        {
          "output_type": "stream",
          "text": [
            "File cannot open\n"
          ],
          "name": "stdout"
        },
        {
          "output_type": "stream",
          "text": [
            " 16%|█▋        | 476/2899 [06:22<24:16,  1.66it/s]"
          ],
          "name": "stderr"
        },
        {
          "output_type": "stream",
          "text": [
            "File cannot open\n"
          ],
          "name": "stdout"
        },
        {
          "output_type": "stream",
          "text": [
            " 18%|█▊        | 536/2899 [07:15<26:54,  1.46it/s]"
          ],
          "name": "stderr"
        },
        {
          "output_type": "stream",
          "text": [
            "File cannot open\n"
          ],
          "name": "stdout"
        },
        {
          "output_type": "stream",
          "text": [
            " 19%|█▊        | 540/2899 [07:19<28:09,  1.40it/s]"
          ],
          "name": "stderr"
        },
        {
          "output_type": "stream",
          "text": [
            "File cannot open\n"
          ],
          "name": "stdout"
        },
        {
          "output_type": "stream",
          "text": [
            " 22%|██▏       | 628/2899 [08:42<25:59,  1.46it/s]"
          ],
          "name": "stderr"
        },
        {
          "output_type": "stream",
          "text": [
            "File cannot open\n"
          ],
          "name": "stdout"
        },
        {
          "output_type": "stream",
          "text": [
            "\r 22%|██▏       | 629/2899 [08:43<22:32,  1.68it/s]"
          ],
          "name": "stderr"
        },
        {
          "output_type": "stream",
          "text": [
            "File cannot open\n"
          ],
          "name": "stdout"
        },
        {
          "output_type": "stream",
          "text": [
            " 22%|██▏       | 643/2899 [08:56<32:21,  1.16it/s]"
          ],
          "name": "stderr"
        },
        {
          "output_type": "stream",
          "text": [
            "File cannot open\n"
          ],
          "name": "stdout"
        },
        {
          "output_type": "stream",
          "text": [
            " 24%|██▍       | 690/2899 [09:43<34:09,  1.08it/s]"
          ],
          "name": "stderr"
        },
        {
          "output_type": "stream",
          "text": [
            "File cannot open\n"
          ],
          "name": "stdout"
        },
        {
          "output_type": "stream",
          "text": [
            " 24%|██▍       | 693/2899 [09:45<26:16,  1.40it/s]"
          ],
          "name": "stderr"
        },
        {
          "output_type": "stream",
          "text": [
            "File cannot open\n"
          ],
          "name": "stdout"
        },
        {
          "output_type": "stream",
          "text": [
            " 24%|██▍       | 701/2899 [09:53<32:48,  1.12it/s]"
          ],
          "name": "stderr"
        },
        {
          "output_type": "stream",
          "text": [
            "File cannot open\n"
          ],
          "name": "stdout"
        },
        {
          "output_type": "stream",
          "text": [
            " 25%|██▍       | 720/2899 [10:14<32:12,  1.13it/s]"
          ],
          "name": "stderr"
        },
        {
          "output_type": "stream",
          "text": [
            "File cannot open\n"
          ],
          "name": "stdout"
        },
        {
          "output_type": "stream",
          "text": [
            " 26%|██▌       | 751/2899 [10:45<29:47,  1.20it/s]"
          ],
          "name": "stderr"
        },
        {
          "output_type": "stream",
          "text": [
            "File cannot open\n"
          ],
          "name": "stdout"
        },
        {
          "output_type": "stream",
          "text": [
            " 27%|██▋       | 775/2899 [11:11<32:22,  1.09it/s]"
          ],
          "name": "stderr"
        },
        {
          "output_type": "stream",
          "text": [
            "File cannot open\n"
          ],
          "name": "stdout"
        },
        {
          "output_type": "stream",
          "text": [
            " 28%|██▊       | 819/2899 [12:02<29:02,  1.19it/s]"
          ],
          "name": "stderr"
        },
        {
          "output_type": "stream",
          "text": [
            "File cannot open\n"
          ],
          "name": "stdout"
        },
        {
          "output_type": "stream",
          "text": [
            " 28%|██▊       | 824/2899 [12:07<29:57,  1.15it/s]"
          ],
          "name": "stderr"
        },
        {
          "output_type": "stream",
          "text": [
            "File cannot open\n"
          ],
          "name": "stdout"
        },
        {
          "output_type": "stream",
          "text": [
            " 29%|██▉       | 839/2899 [12:23<32:41,  1.05it/s]"
          ],
          "name": "stderr"
        },
        {
          "output_type": "stream",
          "text": [
            "File cannot open\n"
          ],
          "name": "stdout"
        },
        {
          "output_type": "stream",
          "text": [
            " 33%|███▎      | 968/2899 [14:49<32:44,  1.02s/it]"
          ],
          "name": "stderr"
        },
        {
          "output_type": "stream",
          "text": [
            "File cannot open\n"
          ],
          "name": "stdout"
        },
        {
          "output_type": "stream",
          "text": [
            " 35%|███▍      | 1012/2899 [15:39<32:43,  1.04s/it]"
          ],
          "name": "stderr"
        },
        {
          "output_type": "stream",
          "text": [
            "File cannot open\n"
          ],
          "name": "stdout"
        },
        {
          "output_type": "stream",
          "text": [
            " 37%|███▋      | 1082/2899 [17:05<29:55,  1.01it/s]"
          ],
          "name": "stderr"
        },
        {
          "output_type": "stream",
          "text": [
            "File cannot open\n"
          ],
          "name": "stdout"
        },
        {
          "output_type": "stream",
          "text": [
            " 40%|███▉      | 1153/2899 [18:29<33:53,  1.16s/it]"
          ],
          "name": "stderr"
        },
        {
          "output_type": "stream",
          "text": [
            "File cannot open\n"
          ],
          "name": "stdout"
        },
        {
          "output_type": "stream",
          "text": [
            " 43%|████▎     | 1245/2899 [20:20<29:17,  1.06s/it]"
          ],
          "name": "stderr"
        },
        {
          "output_type": "stream",
          "text": [
            "File cannot open\n"
          ],
          "name": "stdout"
        },
        {
          "output_type": "stream",
          "text": [
            " 44%|████▍     | 1287/2899 [21:12<31:46,  1.18s/it]"
          ],
          "name": "stderr"
        },
        {
          "output_type": "stream",
          "text": [
            "File cannot open\n"
          ],
          "name": "stdout"
        },
        {
          "output_type": "stream",
          "text": [
            " 46%|████▌     | 1326/2899 [22:04<31:31,  1.20s/it]"
          ],
          "name": "stderr"
        },
        {
          "output_type": "stream",
          "text": [
            "File cannot open\n"
          ],
          "name": "stdout"
        },
        {
          "output_type": "stream",
          "text": [
            " 49%|████▉     | 1424/2899 [24:17<30:05,  1.22s/it]"
          ],
          "name": "stderr"
        },
        {
          "output_type": "stream",
          "text": [
            "File cannot open\n"
          ],
          "name": "stdout"
        },
        {
          "output_type": "stream",
          "text": [
            " 55%|█████▍    | 1591/2899 [28:13<29:55,  1.37s/it]"
          ],
          "name": "stderr"
        },
        {
          "output_type": "stream",
          "text": [
            "File cannot open\n"
          ],
          "name": "stdout"
        },
        {
          "output_type": "stream",
          "text": [
            " 55%|█████▌    | 1595/2899 [28:18<27:20,  1.26s/it]"
          ],
          "name": "stderr"
        },
        {
          "output_type": "stream",
          "text": [
            "File cannot open\n"
          ],
          "name": "stdout"
        },
        {
          "output_type": "stream",
          "text": [
            " 56%|█████▌    | 1622/2899 [29:00<26:38,  1.25s/it]"
          ],
          "name": "stderr"
        },
        {
          "output_type": "stream",
          "text": [
            "File cannot open\n"
          ],
          "name": "stdout"
        },
        {
          "output_type": "stream",
          "text": [
            " 56%|█████▌    | 1625/2899 [29:04<26:46,  1.26s/it]"
          ],
          "name": "stderr"
        },
        {
          "output_type": "stream",
          "text": [
            "File cannot open\n"
          ],
          "name": "stdout"
        },
        {
          "output_type": "stream",
          "text": [
            " 56%|█████▌    | 1629/2899 [29:09<26:13,  1.24s/it]"
          ],
          "name": "stderr"
        },
        {
          "output_type": "stream",
          "text": [
            "File cannot open\n"
          ],
          "name": "stdout"
        },
        {
          "output_type": "stream",
          "text": [
            " 59%|█████▊    | 1703/2899 [31:02<28:35,  1.43s/it]"
          ],
          "name": "stderr"
        },
        {
          "output_type": "stream",
          "text": [
            "File cannot open\n"
          ],
          "name": "stdout"
        },
        {
          "output_type": "stream",
          "text": [
            " 59%|█████▉    | 1715/2899 [31:20<27:06,  1.37s/it]"
          ],
          "name": "stderr"
        },
        {
          "output_type": "stream",
          "text": [
            "File cannot open\n"
          ],
          "name": "stdout"
        },
        {
          "output_type": "stream",
          "text": [
            " 60%|█████▉    | 1732/2899 [31:45<24:06,  1.24s/it]"
          ],
          "name": "stderr"
        },
        {
          "output_type": "stream",
          "text": [
            "File cannot open\n"
          ],
          "name": "stdout"
        },
        {
          "output_type": "stream",
          "text": [
            " 61%|██████▏   | 1776/2899 [32:52<26:13,  1.40s/it]"
          ],
          "name": "stderr"
        },
        {
          "output_type": "stream",
          "text": [
            "File cannot open\n"
          ],
          "name": "stdout"
        },
        {
          "output_type": "stream",
          "text": [
            " 63%|██████▎   | 1826/2899 [34:06<22:14,  1.24s/it]"
          ],
          "name": "stderr"
        },
        {
          "output_type": "stream",
          "text": [
            "File cannot open\n"
          ],
          "name": "stdout"
        },
        {
          "output_type": "stream",
          "text": [
            " 64%|██████▎   | 1842/2899 [34:30<23:38,  1.34s/it]"
          ],
          "name": "stderr"
        },
        {
          "output_type": "stream",
          "text": [
            "File cannot open\n"
          ],
          "name": "stdout"
        },
        {
          "output_type": "stream",
          "text": [
            " 65%|██████▍   | 1875/2899 [35:20<22:02,  1.29s/it]"
          ],
          "name": "stderr"
        },
        {
          "output_type": "stream",
          "text": [
            "File cannot open\n"
          ],
          "name": "stdout"
        },
        {
          "output_type": "stream",
          "text": [
            " 69%|██████▉   | 2008/2899 [38:50<19:34,  1.32s/it]"
          ],
          "name": "stderr"
        },
        {
          "output_type": "stream",
          "text": [
            "File cannot open\n"
          ],
          "name": "stdout"
        },
        {
          "output_type": "stream",
          "text": [
            " 70%|███████   | 2042/2899 [39:45<21:30,  1.51s/it]"
          ],
          "name": "stderr"
        },
        {
          "output_type": "stream",
          "text": [
            "File cannot open\n"
          ],
          "name": "stdout"
        },
        {
          "output_type": "stream",
          "text": [
            "\r 70%|███████   | 2043/2899 [39:46<19:03,  1.34s/it]"
          ],
          "name": "stderr"
        },
        {
          "output_type": "stream",
          "text": [
            "File cannot open\n"
          ],
          "name": "stdout"
        },
        {
          "output_type": "stream",
          "text": [
            " 73%|███████▎  | 2107/2899 [41:28<19:26,  1.47s/it]"
          ],
          "name": "stderr"
        },
        {
          "output_type": "stream",
          "text": [
            "File cannot open\n"
          ],
          "name": "stdout"
        },
        {
          "output_type": "stream",
          "text": [
            " 75%|███████▍  | 2166/2899 [43:07<17:46,  1.45s/it]"
          ],
          "name": "stderr"
        },
        {
          "output_type": "stream",
          "text": [
            "File cannot open\n"
          ],
          "name": "stdout"
        },
        {
          "output_type": "stream",
          "text": [
            " 75%|███████▍  | 2172/2899 [43:16<17:26,  1.44s/it]"
          ],
          "name": "stderr"
        },
        {
          "output_type": "stream",
          "text": [
            "File cannot open\n"
          ],
          "name": "stdout"
        },
        {
          "output_type": "stream",
          "text": [
            " 76%|███████▌  | 2208/2899 [44:17<19:10,  1.66s/it]"
          ],
          "name": "stderr"
        },
        {
          "output_type": "stream",
          "text": [
            "File cannot open\n"
          ],
          "name": "stdout"
        },
        {
          "output_type": "stream",
          "text": [
            " 77%|███████▋  | 2237/2899 [45:07<16:43,  1.52s/it]"
          ],
          "name": "stderr"
        },
        {
          "output_type": "stream",
          "text": [
            "File cannot open\n"
          ],
          "name": "stdout"
        },
        {
          "output_type": "stream",
          "text": [
            " 77%|███████▋  | 2243/2899 [45:18<17:23,  1.59s/it]"
          ],
          "name": "stderr"
        },
        {
          "output_type": "stream",
          "text": [
            "File cannot open\n"
          ],
          "name": "stdout"
        },
        {
          "output_type": "stream",
          "text": [
            " 80%|███████▉  | 2307/2899 [47:07<15:50,  1.61s/it]"
          ],
          "name": "stderr"
        },
        {
          "output_type": "stream",
          "text": [
            "File cannot open\n"
          ],
          "name": "stdout"
        },
        {
          "output_type": "stream",
          "text": [
            " 83%|████████▎ | 2408/2899 [50:05<13:23,  1.64s/it]"
          ],
          "name": "stderr"
        },
        {
          "output_type": "stream",
          "text": [
            "File cannot open\n"
          ],
          "name": "stdout"
        },
        {
          "output_type": "stream",
          "text": [
            " 86%|████████▌ | 2490/2899 [52:30<11:11,  1.64s/it]"
          ],
          "name": "stderr"
        },
        {
          "output_type": "stream",
          "text": [
            "File cannot open\n"
          ],
          "name": "stdout"
        },
        {
          "output_type": "stream",
          "text": [
            " 86%|████████▋ | 2506/2899 [53:00<11:10,  1.71s/it]"
          ],
          "name": "stderr"
        },
        {
          "output_type": "stream",
          "text": [
            "File cannot open\n"
          ],
          "name": "stdout"
        },
        {
          "output_type": "stream",
          "text": [
            " 89%|████████▉ | 2591/2899 [55:41<08:51,  1.72s/it]"
          ],
          "name": "stderr"
        },
        {
          "output_type": "stream",
          "text": [
            "File cannot open\n"
          ],
          "name": "stdout"
        },
        {
          "output_type": "stream",
          "text": [
            " 89%|████████▉ | 2593/2899 [55:44<07:49,  1.53s/it]"
          ],
          "name": "stderr"
        },
        {
          "output_type": "stream",
          "text": [
            "File cannot open\n"
          ],
          "name": "stdout"
        },
        {
          "output_type": "stream",
          "text": [
            " 90%|████████▉ | 2598/2899 [55:52<07:30,  1.50s/it]"
          ],
          "name": "stderr"
        },
        {
          "output_type": "stream",
          "text": [
            "File cannot open\n"
          ],
          "name": "stdout"
        },
        {
          "output_type": "stream",
          "text": [
            " 90%|█████████ | 2612/2899 [56:17<07:48,  1.63s/it]"
          ],
          "name": "stderr"
        },
        {
          "output_type": "stream",
          "text": [
            "File cannot open\n"
          ],
          "name": "stdout"
        },
        {
          "output_type": "stream",
          "text": [
            " 91%|█████████▏| 2647/2899 [57:26<07:11,  1.71s/it]"
          ],
          "name": "stderr"
        },
        {
          "output_type": "stream",
          "text": [
            "File cannot open\n"
          ],
          "name": "stdout"
        },
        {
          "output_type": "stream",
          "text": [
            " 91%|█████████▏| 2652/2899 [57:35<06:54,  1.68s/it]"
          ],
          "name": "stderr"
        },
        {
          "output_type": "stream",
          "text": [
            "File cannot open\n"
          ],
          "name": "stdout"
        },
        {
          "output_type": "stream",
          "text": [
            " 94%|█████████▍| 2734/2899 [1:00:13<04:30,  1.64s/it]"
          ],
          "name": "stderr"
        },
        {
          "output_type": "stream",
          "text": [
            "File cannot open\n"
          ],
          "name": "stdout"
        },
        {
          "output_type": "stream",
          "text": [
            " 95%|█████████▌| 2765/2899 [1:01:10<03:42,  1.66s/it]"
          ],
          "name": "stderr"
        },
        {
          "output_type": "stream",
          "text": [
            "File cannot open\n"
          ],
          "name": "stdout"
        },
        {
          "output_type": "stream",
          "text": [
            " 98%|█████████▊| 2832/2899 [1:03:24<02:08,  1.92s/it]"
          ],
          "name": "stderr"
        },
        {
          "output_type": "stream",
          "text": [
            "File cannot open\n"
          ],
          "name": "stdout"
        },
        {
          "output_type": "stream",
          "text": [
            "100%|█████████▉| 2894/2899 [1:05:31<00:08,  1.76s/it]"
          ],
          "name": "stderr"
        },
        {
          "output_type": "stream",
          "text": [
            "File cannot open\n"
          ],
          "name": "stdout"
        },
        {
          "output_type": "stream",
          "text": [
            "100%|██████████| 2899/2899 [1:05:40<00:00,  1.36s/it]\n"
          ],
          "name": "stderr"
        }
      ]
    },
    {
      "cell_type": "markdown",
      "metadata": {
        "id": "SFLW0eUeJ_wm"
      },
      "source": [
        "---\r\n",
        "# 2- Data Sampling \r\n",
        "---"
      ]
    },
    {
      "cell_type": "markdown",
      "metadata": {
        "id": "U4FVk_DXPriE"
      },
      "source": [
        "## Remove Nans\n",
        "\n",
        "\n",
        "\n"
      ]
    },
    {
      "cell_type": "code",
      "metadata": {
        "id": "dZoFUQ2-LAsQ"
      },
      "source": [
        "isnone = lambda x: x is not None\n",
        "label  = lambda x: 1 if x == 'positive_mild' or x =='positive_moderate' or x == 'COVID-19' else 0\n",
        "cast_x = list(map(isnone,features))\n",
        "data_y = list(map(label,TotData['STATUS']))\n",
        "\n",
        "data_x = [features[i] for i in range(len(features)) if cast_x[i] == True]\n",
        "data_xx= [imgpaths[i] for i in range(len(imgpaths)) if cast_x[i] == True]\n",
        "data_xp= [diagnoses[i]for i in range(len(diagnoses))if cast_x[i] == True]\n",
        "data_y = [data_y[i] for i in range(len(features)) if cast_x[i] == True]"
      ],
      "execution_count": null,
      "outputs": []
    },
    {
      "cell_type": "markdown",
      "metadata": {
        "id": "aiUQQC2UQXPc"
      },
      "source": [
        "## Prepare Data Splits\n",
        "  n = NUM_shuf\n",
        "\n",
        "\n",
        "\n"
      ]
    },
    {
      "cell_type": "code",
      "metadata": {
        "id": "3O6Nuvw7QcX_"
      },
      "source": [
        "assert len(data_x) == len(data_xx) == len(data_xp), \"Data lengths do not match\"\n",
        "\n",
        "indices = np.arange(len(data_x))\n",
        "NUM_shuf= 5\n",
        "DATA    = {i:{} for i in range(NUM_shuf)}\n",
        "\n",
        "for i in range(NUM_shuf):\n",
        "  np.random.shuffle(indices)\n",
        "\n",
        "  DATA[i]['MFCCS'] = np.array([data_x[i] for i in indices])\n",
        "  DATA[i]['MEL']   = [data_xx[i] for i in indices]\n",
        "  DATA[i]['EXTRA'] = np.array([data_xp[i] for i in indices])\n",
        "  DATA[i]['LABELS']= np.array([data_y[i] for i in indices])"
      ],
      "execution_count": null,
      "outputs": []
    },
    {
      "cell_type": "code",
      "metadata": {
        "id": "c-dQGmNILDom"
      },
      "source": [
        "# Save extracted features\n",
        "# Note: mel specs not saved\n",
        "import pickle\n",
        "pickle.dump( DATA, open( \"loaded_data.pickle\", \"wb\" ) )"
      ],
      "execution_count": null,
      "outputs": []
    },
    {
      "cell_type": "markdown",
      "metadata": {
        "id": "Wu99vXhGTpaM"
      },
      "source": [
        "## Data Generator\n",
        "\n",
        "\n"
      ]
    },
    {
      "cell_type": "code",
      "metadata": {
        "id": "hHyTFld8Toli"
      },
      "source": [
        "class CustomDataset(tf.keras.utils.Sequence):\n",
        "  def __init__(self,imgfiles,labels,batch_size,target_size=(64,64),shuffle=False,scale=255,n_classes=1,n_channels=3):\n",
        "    self.batch_size = batch_size\n",
        "    self.dim        = target_size\n",
        "    self.labels     = labels\n",
        "    self.imgfiles   = imgfiles\n",
        "    self.n_classes  = n_classes\n",
        "    self.shuffle    = shuffle\n",
        "    self.n_channels = n_channels\n",
        "    self.scale      = scale\n",
        "\n",
        "    self.c          = 0\n",
        "    self.on_epoch_end()\n",
        "\n",
        "  def __len__(self):\n",
        "    # returns the number of batches\n",
        "    return int(np.floor(len(self.imgfiles) / self.batch_size))\n",
        "\n",
        "  def __getitem__(self, index):\n",
        "    # returns one batch\n",
        "    indexes = self.indexes[index*self.batch_size:(index+1)*self.batch_size]\n",
        "\n",
        "    # Generate data\n",
        "    X, y = self.__data_generation(indexes)\n",
        "    return X, y\n",
        "\n",
        "  def on_epoch_end(self):\n",
        "    self.indexes = np.arange(len(self.imgfiles))\n",
        "    if self.shuffle == True:\n",
        "      np.random.shuffle(self.indexes)\n",
        "  \n",
        "  def __data_generation(self, list_IDs_temp):\n",
        "    X = np.empty((self.batch_size, *self.dim, self.n_channels))\n",
        "    y = np.empty((self.batch_size), dtype=int)\n",
        "\n",
        "    # Generate data\n",
        "    for i, ID in enumerate(list_IDs_temp):\n",
        "        # Store sample\n",
        "        img   = cv2.imread(self.imgfiles[ID])\n",
        "        img   = cv2.resize(img,self.dim,interpolation = cv2.INTER_CUBIC)\n",
        "        X[i,] = img / self.scale\n",
        "\n",
        "        # Store class\n",
        "        y[i] = self.labels[ID]\n",
        "\n",
        "        self.c +=1\n",
        "    return X, y #keras.utils.to_categorical(y, num_classes=self.n_classes)\n",
        "\n",
        "\n",
        "class CustomPipeline(tf.keras.utils.Sequence):\n",
        "  def __init__(self,data_x,data_y,batch_size=48,shuffle=False,n_classes=1):\n",
        "    self.features   = data_x\n",
        "    self.labels     = data_y\n",
        "    self.batch_size = 48\n",
        "    self.shuffle    = shuffle\n",
        "    self.n_features = self.features.shape[1]\n",
        "    self.n_classes  = 1\n",
        "    self.on_epoch_end()\n",
        "\n",
        "  def __len__(self):\n",
        "    return int(np.floor(len(self.features) / self.batch_size))\n",
        "\n",
        "  def __getitem__(self,index):\n",
        "    indexes = self.indexes[index*self.batch_size:(index+1)*self.batch_size]\n",
        "    X, y = self.__data_generation(indexes)\n",
        "    return X, y\n",
        "\n",
        "  def on_epoch_end(self):\n",
        "    self.indexes = np.arange(len(self.features))\n",
        "    if self.shuffle == True:\n",
        "      np.random.shuffle(self.indexes)\n",
        "\n",
        "  def __data_generation(self,indexes):\n",
        "    X = np.empty((self.batch_size, self.n_features))\n",
        "    y = np.empty((self.batch_size), dtype=int)\n",
        "\n",
        "    for i, ID in enumerate(indexes):\n",
        "      X[i,] = self.features[ID]\n",
        "      y[i,] = self.labels[ID]\n",
        "    return X, y\n",
        "\n",
        "class MultipleInputGenerator(tf.keras.utils.Sequence):\n",
        "  \"\"\"Wrapper of two generatos for the combined input model\"\"\"\n",
        "\n",
        "  def __init__(self, X1, X2, Y, batch_size,target_size=(64,64)):\n",
        "      self.genX1 = CustomPipeline(X1, Y, batch_size=batch_size,shuffle=False)\n",
        "      self.genX2 = CustomDataset (X2, Y, batch_size=batch_size,shuffle=False,target_size=target_size)\n",
        "\n",
        "  def __len__(self):\n",
        "      return self.genX1.__len__()\n",
        "\n",
        "  def __getitem__(self, index):\n",
        "      X1_batch, Y_batch = self.genX1.__getitem__(index)\n",
        "      X2_batch, Y_batch = self.genX2.__getitem__(index)\n",
        "      X_batch = [X1_batch, X2_batch]\n",
        "      return X_batch, Y_batch\n",
        "\n",
        "class TripleInputGenerator(tf.keras.utils.Sequence):\n",
        "  \"\"\"Wrapper of two generatos for the combined input model\"\"\"\n",
        "\n",
        "  def __init__(self, X1, X2, X3, Y, batch_size,target_size=(64,64)):\n",
        "      self.genX1 = CustomPipeline(X1, Y, batch_size=batch_size,shuffle=False)\n",
        "      self.genX2 = CustomDataset (X2, Y, batch_size=batch_size,shuffle=False,target_size=target_size)\n",
        "      self.genX3 = CustomPipeline(X3, Y, batch_size=batch_size,shuffle=False)\n",
        "  def __len__(self):\n",
        "      return self.genX1.__len__()\n",
        "\n",
        "  def __getitem__(self, index):\n",
        "      X1_batch, Y_batch = self.genX1.__getitem__(index)\n",
        "      X2_batch, Y_batch = self.genX2.__getitem__(index)\n",
        "      X3_batch, Y_batch = self.genX3.__getitem__(index)\n",
        "\n",
        "      X_batch = [X1_batch, X2_batch, X3_batch]\n",
        "      return X_batch, Y_batch"
      ],
      "execution_count": null,
      "outputs": []
    },
    {
      "cell_type": "markdown",
      "metadata": {
        "id": "fM6PyqEbJ4UL"
      },
      "source": [
        "---\r\n",
        "# 3- Training and Evaluation\r\n",
        "---"
      ]
    },
    {
      "cell_type": "code",
      "metadata": {
        "id": "6KJaZZlziX7D"
      },
      "source": [
        "from sklearn.metrics import roc_auc_score\n",
        "from keras.callbacks import Callback\n",
        "class Evaluation(keras.callbacks.Callback):\n",
        "  \n",
        "  def __init__(self, val_data_gen, val_labels, test_data_gen, test_labels):\n",
        "    super(Callback, self).__init__()\n",
        "    self.test_data = test_data_gen\n",
        "    self.val_labels = val_labels\n",
        "    self.val_data = val_data_gen\n",
        "    self.test_labels = test_labels\n",
        "\n",
        "  def on_epoch_end(self, epoch, logs=None):\n",
        "    y_preds = self.model.predict_generator(self.val_data)\n",
        "    print(' | val_auc:', roc_auc_score(self.val_labels[:len(y_preds)], y_preds))\n",
        "\n",
        "    y_preds = self.model.predict_generator(self.test_data)\n",
        "    print(' | test_auc:', roc_auc_score(self.test_labels[:len(y_preds)], y_preds))\n"
      ],
      "execution_count": null,
      "outputs": []
    },
    {
      "cell_type": "code",
      "metadata": {
        "id": "S1bC_WKGhf3-"
      },
      "source": [
        "def build_model():\r\n",
        "  '''Function to build ensemble model'''\r\n",
        "  # First Model\r\n",
        "  inp1   = Input(shape=39)\r\n",
        "  lay1   = Dense(units=512,activation='relu',kernel_initializer='GlorotUniform')(inp1)\r\n",
        "  lay2   = Dropout(0.4)(lay1)\r\n",
        "  lay3   = Dense(units=256,activation='relu',kernel_initializer='GlorotUniform')(lay2)\r\n",
        "  lay4   = Dropout(0.2)(lay3)\r\n",
        "\r\n",
        "  # Second Model\r\n",
        "  inp2   = Input(shape=(64,64,3))\r\n",
        "  lay1_  = Conv2D(32, (3, 3), strides=(2, 2))(inp2)\r\n",
        "  lay2_  = AveragePooling2D((2, 2), strides=(2,2))(lay1_)\r\n",
        "  lay3_  = BatchNormalization()(lay2_)\r\n",
        "  lay4_  = Activation('relu')(lay3_)\r\n",
        "\r\n",
        "  lay5_  = Conv2D(64, (3, 3), padding=\"same\") (lay4_)\r\n",
        "  lay6_  = AveragePooling2D((2, 2), strides=(2,2)) (lay5_)\r\n",
        "  lay7_  = BatchNormalization()(lay6_)\r\n",
        "  lay8_  = Activation('relu')(lay7_)\r\n",
        "\r\n",
        "  lay9_  = Conv2D(64, (3, 3), padding=\"same\") (lay8_)\r\n",
        "  lay10_ = AveragePooling2D((2, 2), strides=(2,2)) (lay9_)\r\n",
        "  lay11_ = BatchNormalization()(lay10_)\r\n",
        "  lay12_ = Activation('relu')(lay11_)\r\n",
        "\r\n",
        "  lay13_ = Flatten()(lay12_)\r\n",
        "  lay14_ = Dense(units=256,activation='relu',kernel_initializer='GlorotUniform')(lay13_)\r\n",
        "  lay15_ = Dropout(rate=0.5)(lay14_)\r\n",
        "\r\n",
        "  # Third model\r\n",
        "  inp3   = Input(shape=2)\r\n",
        "  lay31  = Dense(units=16,activation='relu',kernel_initializer='GlorotUniform')(inp3)\r\n",
        "  lay32  = Dropout(0.4)(lay31)\r\n",
        "  lay33  = Dense(units=64,activation='relu',kernel_initializer='GlorotUniform')(lay32)\r\n",
        "  lay43  = Dropout(0.2)(lay33)\r\n",
        "\r\n",
        "  # merge input models\r\n",
        "  merge = concatenate([lay15_, lay4,lay43])\r\n",
        "\r\n",
        "  # interpretation model\r\n",
        "  hidden1 = Dense(64, activation='relu')(merge)\r\n",
        "  hidden2 = Dense(64, activation='relu')(hidden1)\r\n",
        "  output  = Dense(1, activation='sigmoid')(hidden2)\r\n",
        "  MERGM   = Model(inputs=[inp1, inp2,inp3], outputs=output)\r\n",
        "\r\n",
        "  return MERGM"
      ],
      "execution_count": null,
      "outputs": []
    },
    {
      "cell_type": "code",
      "metadata": {
        "colab": {
          "base_uri": "https://localhost:8080/"
        },
        "id": "Ec4x7Y5fIve5",
        "outputId": "68ba1e27-2d5e-42a6-b14f-8c946733d1c8"
      },
      "source": [
        "# Create directory to save models\n",
        "rt_sv_dir = '/content/models'\n",
        "!rm -r {rt_sv_dir}\n",
        "os.mkdir(rt_sv_dir)\n",
        "\n",
        "# Run each split\n",
        "for RUN in range(NUM_shuf):\n",
        "  MERGM = build_model()\n",
        "\n",
        "  MERGM.compile(\n",
        "      optimizer = 'Adam',\n",
        "      loss = 'BinaryCrossentropy',\n",
        "      metrics=['AUC'])\n",
        "\n",
        "  tfeatures = DATA[RUN]['MFCCS'][:int(0.7*len(data_x))]\n",
        "  textra    = DATA[RUN]['EXTRA'][:int(0.7*len(data_x))]\n",
        "  timgs     = DATA[RUN]['MEL'][:int(0.7*len(data_x))]\n",
        "  labels    = DATA[RUN]['LABELS'][:int(0.7*len(data_y))]\n",
        "\n",
        "  test_features= DATA[RUN]['MFCCS'][ int(0.7*len(data_x)): int(0.85*len(data_x))]\n",
        "  test_extra   = DATA[RUN]['EXTRA'][ int(0.7*len(data_x)): int(0.85*len(data_x))]\n",
        "  test_imgs    = DATA[RUN]['MEL'][ int(0.7*len(data_x)): int(0.85*len(data_x))]\n",
        "  test_labels  = DATA[RUN]['LABELS'][ int(0.7*len(data_x)): int(0.85*len(data_x))]\n",
        "                                        \n",
        "  val_features= DATA[RUN]['MFCCS'][ int(0.85*len(data_x)) :]\n",
        "  val_extra   = DATA[RUN]['EXTRA'][ int(0.85*len(data_x)) :]\n",
        "  val_imgs    = DATA[RUN]['MEL'][ int(0.85*len(data_x)) :]\n",
        "  val_labels  = DATA[RUN]['LABELS'][ int(0.85*len(data_x)) :]\n",
        "\n",
        "  imgs_em      = TripleInputGenerator(tfeatures,timgs,textra,labels,batch_size=48,target_size=(64,64))\n",
        "  TEST          = TripleInputGenerator(test_features,test_imgs,test_extra,test_labels,batch_size=48,target_size=(64,64))\n",
        "  VAL         = TripleInputGenerator(val_features,val_imgs,val_extra,val_labels,batch_size=48,target_size=(64,64))\n",
        "\n",
        "\n",
        "  evaluator = Evaluation(VAL, val_labels, TEST, test_labels)\n",
        "  checkpointer = keras.callbacks.ModelCheckpoint(filepath=os.path.join(os.path.join(rt_sv_dir, str(RUN)),\n",
        "                \"{epoch:03d}--{val_loss:.3f}--{loss:.3f}.hdf5\"), save_best_only=False)\n",
        "  os.mkdir(os.path.join(rt_sv_dir, str(RUN)))\n",
        "  MERGM.fit_generator(\n",
        "                  imgs_em,\n",
        "                  epochs=20,\n",
        "                  validation_data=VAL, \n",
        "                  verbose=2, \n",
        "                  callbacks=[evaluator, checkpointer])\n",
        "\n",
        "  MERGM_Record1 = MERGM.evaluate_generator(\n",
        "    TEST\n",
        "  )\n",
        "  print()\n",
        "  print('Results: Loss = {} , AUC = {} '.format(MERGM_Record1[0],MERGM_Record1[1]))\n",
        "\n",
        "  print()\n",
        "  from sklearn.metrics import roc_auc_score\n",
        "\n",
        "  y_val  = val_labels\n",
        "  y_preds_val = MERGM.predict_generator(VAL)\n",
        "  print('val:', roc_auc_score(y_val[:len(y_preds_val)], y_preds_val))\n",
        "\n",
        "  y_test  = test_labels\n",
        "  y_preds_test = MERGM.predict(TEST)\n",
        "  print('test', roc_auc_score(y_test[:len(y_preds_test)], y_preds_test))\n",
        "  print()\n",
        "  print('-----------------------------------------------------------------')\n"
      ],
      "execution_count": null,
      "outputs": [
        {
          "output_type": "stream",
          "text": [
            "rm: cannot remove '/content/models': No such file or directory\n",
            "WARNING:tensorflow:From <ipython-input-25-359f0ff20bfb>:44: Model.fit_generator (from tensorflow.python.keras.engine.training) is deprecated and will be removed in a future version.\n",
            "Instructions for updating:\n",
            "Please use Model.fit, which supports generators.\n",
            "Epoch 1/20\n",
            "WARNING:tensorflow:From <ipython-input-23-3352890d84b2>:13: Model.predict_generator (from tensorflow.python.keras.engine.training) is deprecated and will be removed in a future version.\n",
            "Instructions for updating:\n",
            "Please use Model.predict, which supports generators.\n",
            " | val_auc: 0.5421193062702496\n",
            " | test_auc: 0.491305250051878\n",
            "41/41 - 13s - loss: 1.2375 - auc: 0.5147 - val_loss: 0.4576 - val_auc: 0.5402\n",
            "Epoch 2/20\n",
            " | val_auc: 0.5757575757575758\n",
            " | test_auc: 0.5488690599709483\n",
            "41/41 - 12s - loss: 0.5865 - auc: 0.5211 - val_loss: 0.5198 - val_auc: 0.5735\n",
            "Epoch 3/20\n",
            " | val_auc: 0.5756146369353916\n",
            " | test_auc: 0.6833367918655323\n",
            "41/41 - 12s - loss: 0.5194 - auc: 0.5220 - val_loss: 0.5375 - val_auc: 0.5787\n",
            "Epoch 4/20\n",
            " | val_auc: 0.6275967219363445\n",
            " | test_auc: 0.6457356297987135\n",
            "41/41 - 12s - loss: 0.5084 - auc: 0.5335 - val_loss: 0.4473 - val_auc: 0.6279\n",
            "Epoch 5/20\n",
            " | val_auc: 0.6517533828854584\n",
            " | test_auc: 0.7359618178045237\n",
            "41/41 - 11s - loss: 0.4949 - auc: 0.5928 - val_loss: 0.5020 - val_auc: 0.6511\n",
            "Epoch 6/20\n",
            " | val_auc: 0.7168381932532877\n",
            " | test_auc: 0.735256277235941\n",
            "41/41 - 12s - loss: 0.4862 - auc: 0.5716 - val_loss: 0.4471 - val_auc: 0.7156\n",
            "Epoch 7/20\n",
            " | val_auc: 0.6861539927577663\n",
            " | test_auc: 0.7460884000830047\n",
            "41/41 - 11s - loss: 0.4582 - auc: 0.6558 - val_loss: 0.4237 - val_auc: 0.6870\n",
            "Epoch 8/20\n",
            " | val_auc: 0.7722984562607205\n",
            " | test_auc: 0.7206889396140278\n",
            "41/41 - 11s - loss: 0.4289 - auc: 0.7256 - val_loss: 0.4002 - val_auc: 0.7712\n",
            "Epoch 9/20\n",
            " | val_auc: 0.7251286449399658\n",
            " | test_auc: 0.7472504669018468\n",
            "41/41 - 11s - loss: 0.4151 - auc: 0.7539 - val_loss: 0.4057 - val_auc: 0.7248\n",
            "Epoch 10/20\n",
            " | val_auc: 0.7144082332761578\n",
            " | test_auc: 0.7456733762191325\n",
            "41/41 - 11s - loss: 0.4135 - auc: 0.7567 - val_loss: 0.4105 - val_auc: 0.7145\n",
            "Epoch 11/20\n",
            " | val_auc: 0.683628740232514\n",
            " | test_auc: 0.728740402573148\n",
            "41/41 - 11s - loss: 0.3986 - auc: 0.7864 - val_loss: 0.4669 - val_auc: 0.6832\n",
            "Epoch 12/20\n",
            " | val_auc: 0.6998284734133791\n",
            " | test_auc: 0.7323511101888358\n",
            "41/41 - 11s - loss: 0.4018 - auc: 0.7766 - val_loss: 0.4097 - val_auc: 0.6995\n",
            "Epoch 13/20\n",
            " | val_auc: 0.7074995235372593\n",
            " | test_auc: 0.7107076156879021\n",
            "41/41 - 12s - loss: 0.3912 - auc: 0.7855 - val_loss: 0.5316 - val_auc: 0.7008\n",
            "Epoch 14/20\n",
            " | val_auc: 0.6783400038117019\n",
            " | test_auc: 0.7286989001867606\n",
            "41/41 - 11s - loss: 0.3801 - auc: 0.8077 - val_loss: 0.4618 - val_auc: 0.6775\n",
            "Epoch 15/20\n",
            " | val_auc: 0.7185058128454355\n",
            " | test_auc: 0.7392820087155011\n",
            "41/41 - 12s - loss: 0.3657 - auc: 0.8278 - val_loss: 0.4465 - val_auc: 0.7179\n",
            "Epoch 16/20\n",
            " | val_auc: 0.6798646845816657\n",
            " | test_auc: 0.7185308155218924\n",
            "41/41 - 11s - loss: 0.3505 - auc: 0.8456 - val_loss: 0.5317 - val_auc: 0.6770\n",
            "Epoch 17/20\n",
            " | val_auc: 0.6523727844482561\n",
            " | test_auc: 0.7212699730234489\n",
            "41/41 - 11s - loss: 0.3660 - auc: 0.8398 - val_loss: 0.4928 - val_auc: 0.6542\n",
            "Epoch 18/20\n",
            " | val_auc: 0.6588526777206022\n",
            " | test_auc: 0.7029259182402988\n",
            "41/41 - 11s - loss: 0.3358 - auc: 0.8644 - val_loss: 0.4791 - val_auc: 0.6607\n",
            "Epoch 19/20\n",
            " | val_auc: 0.6451781970649895\n",
            " | test_auc: 0.7230130732517119\n",
            "41/41 - 11s - loss: 0.3062 - auc: 0.8884 - val_loss: 0.5370 - val_auc: 0.6429\n",
            "Epoch 20/20\n",
            " | val_auc: 0.6416523727844482\n",
            " | test_auc: 0.7106868644947084\n",
            "41/41 - 11s - loss: 0.2958 - auc: 0.8976 - val_loss: 0.6736 - val_auc: 0.6417\n",
            "WARNING:tensorflow:From <ipython-input-25-359f0ff20bfb>:47: Model.evaluate_generator (from tensorflow.python.keras.engine.training) is deprecated and will be removed in a future version.\n",
            "Instructions for updating:\n",
            "Please use Model.evaluate, which supports generators.\n",
            "\n",
            "First Shuffle: Loss = 0.6218755841255188 , AUC = 0.7106453776359558 \n",
            "\n",
            "val: 0.6416523727844482\n",
            "test 0.7106868644947084\n",
            "\n",
            "-----------------------------------------------------------------\n",
            "Epoch 1/20\n",
            " | val_auc: 0.5520937687838109\n",
            " | test_auc: 0.49765857811834824\n",
            "41/41 - 12s - loss: 1.2677 - auc: 0.5097 - val_loss: 0.5309 - val_auc: 0.5519\n",
            "Epoch 2/20\n",
            " | val_auc: 0.5982768984171508\n",
            " | test_auc: 0.5370950888192267\n",
            "41/41 - 11s - loss: 0.5527 - auc: 0.5103 - val_loss: 0.4780 - val_auc: 0.5995\n",
            "Epoch 3/20\n",
            " | val_auc: 0.6255760368663594\n",
            " | test_auc: 0.5550524401099114\n",
            "41/41 - 12s - loss: 0.5090 - auc: 0.5062 - val_loss: 0.5089 - val_auc: 0.6229\n",
            "Epoch 4/20\n",
            " | val_auc: 0.6004808655580044\n",
            " | test_auc: 0.5536204961492318\n",
            "41/41 - 12s - loss: 0.4941 - auc: 0.5364 - val_loss: 0.4377 - val_auc: 0.6051\n",
            "Epoch 5/20\n",
            " | val_auc: 0.6764175515928672\n",
            " | test_auc: 0.6103177367545183\n",
            "41/41 - 12s - loss: 0.4782 - auc: 0.5735 - val_loss: 0.4290 - val_auc: 0.6701\n",
            "Epoch 6/20\n",
            " | val_auc: 0.6700060108194751\n",
            " | test_auc: 0.6019969813073263\n",
            "41/41 - 12s - loss: 0.4834 - auc: 0.5759 - val_loss: 0.4456 - val_auc: 0.6719\n",
            "Epoch 7/20\n",
            " | val_auc: 0.769485073131637\n",
            " | test_auc: 0.6853980417198808\n",
            "41/41 - 12s - loss: 0.4589 - auc: 0.6477 - val_loss: 0.4140 - val_auc: 0.7679\n",
            "Epoch 8/20\n",
            " | val_auc: 0.7848126627930274\n",
            " | test_auc: 0.7316846627191456\n",
            "41/41 - 12s - loss: 0.4357 - auc: 0.6957 - val_loss: 0.4435 - val_auc: 0.7834\n",
            "Epoch 9/20\n",
            " | val_auc: 0.8005910639150471\n",
            " | test_auc: 0.7246023452920004\n",
            "41/41 - 12s - loss: 0.4158 - auc: 0.7435 - val_loss: 0.3596 - val_auc: 0.8008\n",
            "Epoch 10/20\n",
            " | val_auc: 0.7272089761570828\n",
            " | test_auc: 0.661403305081466\n",
            "41/41 - 12s - loss: 0.4058 - auc: 0.7533 - val_loss: 0.4773 - val_auc: 0.7273\n",
            "Epoch 11/20\n",
            " | val_auc: 0.7965337607693849\n",
            " | test_auc: 0.6966987886528117\n",
            "41/41 - 12s - loss: 0.4026 - auc: 0.7686 - val_loss: 0.3758 - val_auc: 0.7966\n",
            "Epoch 12/20\n",
            " | val_auc: 0.7965838509316769\n",
            " | test_auc: 0.7160880839041759\n",
            "41/41 - 12s - loss: 0.3864 - auc: 0.7908 - val_loss: 0.3541 - val_auc: 0.7962\n",
            "Epoch 13/20\n",
            " | val_auc: 0.7623722700861552\n",
            " | test_auc: 0.6845853167692248\n",
            "41/41 - 12s - loss: 0.3811 - auc: 0.7974 - val_loss: 0.4114 - val_auc: 0.7625\n",
            "Epoch 14/20\n",
            " | val_auc: 0.7563113604488079\n",
            " | test_auc: 0.6859011571655249\n",
            "41/41 - 11s - loss: 0.3745 - auc: 0.8112 - val_loss: 0.4967 - val_auc: 0.7551\n",
            "Epoch 15/20\n",
            " | val_auc: 0.7622219995992787\n",
            " | test_auc: 0.700878516970471\n",
            "41/41 - 12s - loss: 0.3567 - auc: 0.8299 - val_loss: 0.3887 - val_auc: 0.7638\n",
            "Epoch 16/20\n",
            " | val_auc: 0.7452414345822481\n",
            " | test_auc: 0.6684469213204846\n",
            "41/41 - 12s - loss: 0.3394 - auc: 0.8512 - val_loss: 0.5584 - val_auc: 0.7281\n",
            "Epoch 17/20\n",
            " | val_auc: 0.7515027048687638\n",
            " | test_auc: 0.6709624985487054\n",
            "41/41 - 12s - loss: 0.3304 - auc: 0.8605 - val_loss: 0.5290 - val_auc: 0.7449\n",
            "Epoch 18/20\n",
            " | val_auc: 0.682278100581046\n",
            " | test_auc: 0.666279654785402\n",
            "41/41 - 11s - loss: 0.3060 - auc: 0.8870 - val_loss: 0.8605 - val_auc: 0.6479\n",
            "Epoch 19/20\n",
            " | val_auc: 0.7389801642957323\n",
            " | test_auc: 0.6874879058787104\n",
            "41/41 - 12s - loss: 0.2921 - auc: 0.8981 - val_loss: 0.5275 - val_auc: 0.7330\n",
            "Epoch 20/20\n",
            " | val_auc: 0.7372270086155078\n",
            " | test_auc: 0.672394442509385\n",
            "41/41 - 12s - loss: 0.2828 - auc: 0.9054 - val_loss: 0.4576 - val_auc: 0.7314\n",
            "\n",
            "First Shuffle: Loss = 0.6621436476707458 , AUC = 0.6716204285621643 \n",
            "\n",
            "val: 0.7372270086155078\n",
            "test 0.672394442509385\n",
            "\n",
            "-----------------------------------------------------------------\n",
            "Epoch 1/20\n",
            " | val_auc: 0.5105084745762712\n",
            " | test_auc: 0.502880859375\n",
            "41/41 - 12s - loss: 1.7016 - auc: 0.4953 - val_loss: 0.4422 - val_auc: 0.5089\n",
            "Epoch 2/20\n",
            " | val_auc: 0.5766362451108215\n",
            " | test_auc: 0.5715576171875001\n",
            "41/41 - 12s - loss: 0.5871 - auc: 0.4860 - val_loss: 0.5447 - val_auc: 0.5765\n",
            "Epoch 3/20\n",
            " | val_auc: 0.5262059973924381\n",
            " | test_auc: 0.524072265625\n",
            "41/41 - 12s - loss: 0.5369 - auc: 0.5095 - val_loss: 0.4310 - val_auc: 0.5254\n",
            "Epoch 4/20\n",
            " | val_auc: 0.5352281616688397\n",
            " | test_auc: 0.533447265625\n",
            "41/41 - 12s - loss: 0.5286 - auc: 0.5069 - val_loss: 0.4458 - val_auc: 0.5337\n",
            "Epoch 5/20\n",
            " | val_auc: 0.5822164276401565\n",
            " | test_auc: 0.5914550781250001\n",
            "41/41 - 11s - loss: 0.4994 - auc: 0.5539 - val_loss: 0.4260 - val_auc: 0.5816\n",
            "Epoch 6/20\n",
            " | val_auc: 0.6098565840938721\n",
            " | test_auc: 0.6226074218750001\n",
            "41/41 - 12s - loss: 0.5277 - auc: 0.5332 - val_loss: 0.4227 - val_auc: 0.6117\n",
            "Epoch 7/20\n",
            " | val_auc: 0.6123598435462841\n",
            " | test_auc: 0.6421875\n",
            "41/41 - 12s - loss: 0.5103 - auc: 0.5742 - val_loss: 0.4254 - val_auc: 0.6135\n",
            "Epoch 8/20\n",
            " | val_auc: 0.6447457627118643\n",
            " | test_auc: 0.6623291015624999\n",
            "41/41 - 12s - loss: 0.4877 - auc: 0.6002 - val_loss: 0.4179 - val_auc: 0.6439\n",
            "Epoch 9/20\n",
            " | val_auc: 0.679374185136897\n",
            " | test_auc: 0.698876953125\n",
            "41/41 - 12s - loss: 0.4718 - auc: 0.6545 - val_loss: 0.4020 - val_auc: 0.6793\n",
            "Epoch 10/20\n",
            " | val_auc: 0.7326205997392438\n",
            " | test_auc: 0.76748046875\n",
            "41/41 - 12s - loss: 0.4564 - auc: 0.6872 - val_loss: 0.3870 - val_auc: 0.7334\n",
            "Epoch 11/20\n",
            " | val_auc: 0.7571838331160365\n",
            " | test_auc: 0.7941406249999999\n",
            "41/41 - 12s - loss: 0.4253 - auc: 0.7503 - val_loss: 0.3707 - val_auc: 0.7573\n",
            "Epoch 12/20\n",
            " | val_auc: 0.7048239895697523\n",
            " | test_auc: 0.7552734375\n",
            "41/41 - 12s - loss: 0.4225 - auc: 0.7581 - val_loss: 0.4169 - val_auc: 0.7046\n",
            "Epoch 13/20\n",
            " | val_auc: 0.7027379400260756\n",
            " | test_auc: 0.7329589843750001\n",
            "41/41 - 12s - loss: 0.4185 - auc: 0.7625 - val_loss: 0.4495 - val_auc: 0.7016\n",
            "Epoch 14/20\n",
            " | val_auc: 0.7227640156453715\n",
            " | test_auc: 0.7585449218749999\n",
            "41/41 - 12s - loss: 0.3999 - auc: 0.7900 - val_loss: 0.4235 - val_auc: 0.7238\n",
            "Epoch 15/20\n",
            " | val_auc: 0.7564015645371578\n",
            " | test_auc: 0.7801757812500001\n",
            "41/41 - 11s - loss: 0.3984 - auc: 0.7951 - val_loss: 0.3996 - val_auc: 0.7565\n",
            "Epoch 16/20\n",
            " | val_auc: 0.7484224250325945\n",
            " | test_auc: 0.768017578125\n",
            "41/41 - 11s - loss: 0.3823 - auc: 0.8200 - val_loss: 0.3988 - val_auc: 0.7478\n",
            "Epoch 17/20\n",
            " | val_auc: 0.751238591916558\n",
            " | test_auc: 0.7678710937500001\n",
            "41/41 - 12s - loss: 0.3840 - auc: 0.8149 - val_loss: 0.4444 - val_auc: 0.7513\n",
            "Epoch 18/20\n",
            " | val_auc: 0.7010169491525424\n",
            " | test_auc: 0.7166503906249999\n",
            "41/41 - 11s - loss: 0.3566 - auc: 0.8478 - val_loss: 0.5905 - val_auc: 0.6866\n",
            "Epoch 19/20\n",
            " | val_auc: 0.7189048239895698\n",
            " | test_auc: 0.74169921875\n",
            "41/41 - 11s - loss: 0.3385 - auc: 0.8671 - val_loss: 0.4443 - val_auc: 0.7201\n",
            "Epoch 20/20\n",
            " | val_auc: 0.691890482398957\n",
            " | test_auc: 0.7201171875\n",
            "41/41 - 12s - loss: 0.3347 - auc: 0.8690 - val_loss: 0.4980 - val_auc: 0.6845\n",
            "\n",
            "First Shuffle: Loss = 0.5077748894691467 , AUC = 0.7158447504043579 \n",
            "\n",
            "val: 0.691890482398957\n",
            "test 0.7201171875\n",
            "\n",
            "-----------------------------------------------------------------\n",
            "Epoch 1/20\n",
            " | val_auc: 0.5386841168091168\n",
            " | test_auc: 0.5422932330827068\n",
            "41/41 - 12s - loss: 1.2090 - auc: 0.4944 - val_loss: 0.6240 - val_auc: 0.5382\n",
            "Epoch 2/20\n",
            " | val_auc: 0.5536858974358974\n",
            " | test_auc: 0.5395164046479836\n",
            "41/41 - 11s - loss: 0.5269 - auc: 0.5095 - val_loss: 0.4892 - val_auc: 0.5520\n",
            "Epoch 3/20\n",
            " | val_auc: 0.5519052706552707\n",
            " | test_auc: 0.5538277511961723\n",
            "41/41 - 11s - loss: 0.5000 - auc: 0.5254 - val_loss: 0.4951 - val_auc: 0.5510\n",
            "Epoch 4/20\n",
            " | val_auc: 0.6095530626780628\n",
            " | test_auc: 0.620727956254272\n",
            "41/41 - 12s - loss: 0.4804 - auc: 0.5626 - val_loss: 0.4990 - val_auc: 0.6106\n",
            "Epoch 5/20\n",
            " | val_auc: 0.5908119658119658\n",
            " | test_auc: 0.5778793574846207\n",
            "41/41 - 11s - loss: 0.4964 - auc: 0.5487 - val_loss: 0.4757 - val_auc: 0.5908\n",
            "Epoch 6/20\n",
            " | val_auc: 0.6902599715099715\n",
            " | test_auc: 0.676948051948052\n",
            "41/41 - 11s - loss: 0.4786 - auc: 0.5827 - val_loss: 0.4768 - val_auc: 0.6906\n",
            "Epoch 7/20\n",
            " | val_auc: 0.6806000712250713\n",
            " | test_auc: 0.6641746411483254\n",
            "41/41 - 12s - loss: 0.4631 - auc: 0.6206 - val_loss: 0.4634 - val_auc: 0.6818\n",
            "Epoch 8/20\n",
            " | val_auc: 0.7080217236467238\n",
            " | test_auc: 0.6865601503759398\n",
            "41/41 - 12s - loss: 0.4597 - auc: 0.6454 - val_loss: 0.4698 - val_auc: 0.7084\n",
            "Epoch 9/20\n",
            " | val_auc: 0.7114939458689459\n",
            " | test_auc: 0.7112525632262474\n",
            "41/41 - 12s - loss: 0.4432 - auc: 0.6803 - val_loss: 0.4498 - val_auc: 0.7111\n",
            "Epoch 10/20\n",
            " | val_auc: 0.7149216524216523\n",
            " | test_auc: 0.7399606971975394\n",
            "41/41 - 12s - loss: 0.4304 - auc: 0.7152 - val_loss: 0.4659 - val_auc: 0.7131\n",
            "Epoch 11/20\n",
            " | val_auc: 0.7374020655270656\n",
            " | test_auc: 0.739917976760082\n",
            "41/41 - 12s - loss: 0.4120 - auc: 0.7488 - val_loss: 0.4638 - val_auc: 0.7370\n",
            "Epoch 12/20\n",
            " | val_auc: 0.6959579772079771\n",
            " | test_auc: 0.7447453861927547\n",
            "41/41 - 12s - loss: 0.4191 - auc: 0.7403 - val_loss: 0.4406 - val_auc: 0.6945\n",
            "Epoch 13/20\n",
            " | val_auc: 0.7659366096866097\n",
            " | test_auc: 0.7630297334244703\n",
            "41/41 - 12s - loss: 0.4026 - auc: 0.7700 - val_loss: 0.4286 - val_auc: 0.7661\n",
            "Epoch 14/20\n",
            " | val_auc: 0.7471509971509972\n",
            " | test_auc: 0.7602956254272044\n",
            "41/41 - 12s - loss: 0.3817 - auc: 0.8005 - val_loss: 0.4281 - val_auc: 0.7470\n",
            "Epoch 15/20\n",
            " | val_auc: 0.7426994301994301\n",
            " | test_auc: 0.7282125768967874\n",
            "41/41 - 12s - loss: 0.3804 - auc: 0.8022 - val_loss: 0.4430 - val_auc: 0.7435\n",
            "Epoch 16/20\n",
            " | val_auc: 0.744880698005698\n",
            " | test_auc: 0.7535457963089542\n",
            "41/41 - 12s - loss: 0.3725 - auc: 0.8125 - val_loss: 0.4670 - val_auc: 0.7453\n",
            "Epoch 17/20\n",
            " | val_auc: 0.7095797720797721\n",
            " | test_auc: 0.7054425837320574\n",
            "41/41 - 12s - loss: 0.3708 - auc: 0.8149 - val_loss: 0.5632 - val_auc: 0.7094\n",
            "Epoch 18/20\n",
            " | val_auc: 0.7107371794871795\n",
            " | test_auc: 0.7214627477785374\n",
            "41/41 - 12s - loss: 0.3606 - auc: 0.8302 - val_loss: 0.5036 - val_auc: 0.7121\n",
            "Epoch 19/20\n",
            " | val_auc: 0.7101139601139601\n",
            " | test_auc: 0.7106971975393027\n",
            "41/41 - 12s - loss: 0.3369 - auc: 0.8601 - val_loss: 0.5023 - val_auc: 0.7114\n",
            "Epoch 20/20\n",
            " | val_auc: 0.7122507122507123\n",
            " | test_auc: 0.7316302118933697\n",
            "41/41 - 12s - loss: 0.3338 - auc: 0.8607 - val_loss: 0.4903 - val_auc: 0.7119\n",
            "\n",
            "First Shuffle: Loss = 0.48213985562324524 , AUC = 0.7319933176040649 \n",
            "\n",
            "val: 0.7122507122507123\n",
            "test 0.7316302118933697\n",
            "\n",
            "-----------------------------------------------------------------\n",
            "Epoch 1/20\n",
            " | val_auc: 0.5033630864249756\n",
            " | test_auc: 0.5221777184394006\n",
            "41/41 - 12s - loss: 1.0785 - auc: 0.5495 - val_loss: 0.6861 - val_auc: 0.5070\n",
            "Epoch 2/20\n",
            " | val_auc: 0.5123313168915775\n",
            " | test_auc: 0.48167927607179944\n",
            "41/41 - 12s - loss: 0.5843 - auc: 0.5324 - val_loss: 0.5214 - val_auc: 0.5147\n",
            "Epoch 3/20\n",
            " | val_auc: 0.49557933922754765\n",
            " | test_auc: 0.46308658458191176\n",
            "41/41 - 12s - loss: 0.5288 - auc: 0.5067 - val_loss: 0.5195 - val_auc: 0.4960\n",
            "Epoch 4/20\n",
            " | val_auc: 0.48969922585557757\n",
            " | test_auc: 0.4562132225683628\n",
            "41/41 - 11s - loss: 0.5060 - auc: 0.5009 - val_loss: 0.5053 - val_auc: 0.4935\n",
            "Epoch 5/20\n",
            " | val_auc: 0.4858073522568636\n",
            " | test_auc: 0.45497700637887556\n",
            "41/41 - 11s - loss: 0.4978 - auc: 0.5117 - val_loss: 0.5080 - val_auc: 0.4885\n",
            "Epoch 6/20\n",
            " | val_auc: 0.5239646347138204\n",
            " | test_auc: 0.5005686594471641\n",
            "41/41 - 11s - loss: 0.4892 - auc: 0.5399 - val_loss: 0.4985 - val_auc: 0.5213\n",
            "Epoch 7/20\n",
            " | val_auc: 0.5871652777190236\n",
            " | test_auc: 0.5546902042229145\n",
            "41/41 - 12s - loss: 0.4883 - auc: 0.5488 - val_loss: 0.4965 - val_auc: 0.5859\n",
            "Epoch 8/20\n",
            " | val_auc: 0.6245611066457971\n",
            " | test_auc: 0.5878949710725412\n",
            "41/41 - 12s - loss: 0.4730 - auc: 0.6001 - val_loss: 0.4928 - val_auc: 0.6218\n",
            "Epoch 9/20\n",
            " | val_auc: 0.7538389948813401\n",
            " | test_auc: 0.7103792711269347\n",
            "41/41 - 12s - loss: 0.4817 - auc: 0.5913 - val_loss: 0.4600 - val_auc: 0.7549\n",
            "Epoch 10/20\n",
            " | val_auc: 0.7463936714751047\n",
            " | test_auc: 0.7339168273747713\n",
            "41/41 - 12s - loss: 0.4633 - auc: 0.6393 - val_loss: 0.4628 - val_auc: 0.7454\n",
            "Epoch 11/20\n",
            " | val_auc: 0.7464359744490038\n",
            " | test_auc: 0.7333234436038172\n",
            "41/41 - 11s - loss: 0.4517 - auc: 0.6687 - val_loss: 0.4655 - val_auc: 0.7474\n",
            "Epoch 12/20\n",
            " | val_auc: 0.7979609966580651\n",
            " | test_auc: 0.7930574098798397\n",
            "41/41 - 11s - loss: 0.4371 - auc: 0.7110 - val_loss: 0.4350 - val_auc: 0.8001\n",
            "Epoch 13/20\n",
            " | val_auc: 0.7591691695926223\n",
            " | test_auc: 0.7682341887949364\n",
            "41/41 - 11s - loss: 0.4218 - auc: 0.7427 - val_loss: 0.4525 - val_auc: 0.7592\n",
            "Epoch 14/20\n",
            " | val_auc: 0.7425652523372394\n",
            " | test_auc: 0.7633634970083568\n",
            "41/41 - 11s - loss: 0.4233 - auc: 0.7405 - val_loss: 0.4572 - val_auc: 0.7428\n",
            "Epoch 15/20\n",
            " | val_auc: 0.7960573628326071\n",
            " | test_auc: 0.8154081985857686\n",
            "41/41 - 11s - loss: 0.4044 - auc: 0.7770 - val_loss: 0.4249 - val_auc: 0.7973\n",
            "Epoch 16/20\n",
            " | val_auc: 0.7625534075045476\n",
            " | test_auc: 0.7998318745982297\n",
            "41/41 - 11s - loss: 0.4074 - auc: 0.7753 - val_loss: 0.4281 - val_auc: 0.7629\n",
            "Epoch 17/20\n",
            " | val_auc: 0.7932653665552688\n",
            " | test_auc: 0.8173614201651586\n",
            "41/41 - 11s - loss: 0.3971 - auc: 0.7871 - val_loss: 0.4239 - val_auc: 0.7928\n",
            "Epoch 18/20\n",
            " | val_auc: 0.773615635179153\n",
            " | test_auc: 0.8113039608366711\n",
            "41/41 - 11s - loss: 0.3815 - auc: 0.8104 - val_loss: 0.4428 - val_auc: 0.7744\n",
            "Epoch 19/20\n",
            " | val_auc: 0.79140403570371\n",
            " | test_auc: 0.8205014092864561\n",
            "41/41 - 12s - loss: 0.3714 - auc: 0.8247 - val_loss: 0.4137 - val_auc: 0.7913\n",
            "Epoch 20/20\n",
            " | val_auc: 0.7358390794872879\n",
            " | test_auc: 0.8055184690698709\n",
            "41/41 - 11s - loss: 0.3806 - auc: 0.8121 - val_loss: 0.4970 - val_auc: 0.7357\n",
            "\n",
            "First Shuffle: Loss = 0.3887775242328644 , AUC = 0.8080650568008423 \n",
            "\n",
            "val: 0.7358390794872879\n",
            "test 0.8055184690698709\n",
            "\n",
            "-----------------------------------------------------------------\n"
          ],
          "name": "stdout"
        }
      ]
    },
    {
      "cell_type": "markdown",
      "metadata": {
        "id": "9lC-LJeBdwoy"
      },
      "source": [
        "---\r\n",
        "# 4-Model Visualization\r\n",
        "---"
      ]
    },
    {
      "cell_type": "code",
      "metadata": {
        "id": "QcGfTw8S2Hf0"
      },
      "source": [
        "# Calculate ROC curves for each run\n",
        "from sklearn.metrics import roc_curve\n",
        "import matplotlib.pyplot as plt\n",
        "from scipy import interp\n",
        "import sklearn\n",
        "\n",
        "# EDIT MODEL PATHS TO USE\n",
        "models = {0: '/content/models/0/**',\n",
        "          1: '/content/models/1/**',\n",
        "          2: '/content/models/2/**',\n",
        "          3: '/content/models/3/**',\n",
        "          4: '/content/models/4/**'\n",
        "          }\n",
        "\n",
        "tprs = []\n",
        "base_fpr = np.linspace(0, 1, 101)\n",
        "for iii in range(5):\n",
        "  print(iii)\n",
        "\n",
        "  test_features= DATA[iii]['MFCCS'][ int(0.7*len(data_x)): int(0.85*len(data_x))]\n",
        "  test_extra   = DATA[iii]['EXTRA'][ int(0.7*len(data_x)): int(0.85*len(data_x))]\n",
        "  test_imgs    = DATA[iii]['MEL'][ int(0.7*len(data_x)): int(0.85*len(data_x))]\n",
        "  test_labels  = DATA[iii]['LABELS'][ int(0.7*len(data_x)): int(0.85*len(data_x))]\n",
        "  TEST          = TripleInputGenerator(test_features,test_imgs,test_extra,test_labels,batch_size=48,target_size=(64,64))\n",
        "\n",
        "  model = keras.models.load_model(models[iii])\n",
        "  y_score = model.predict(TEST)\n",
        "  fpr, tpr, _ = roc_curve(test_labels[:len(y_score)], y_score)\n",
        "  print('Num_samples:', len(y_score))\n",
        "\n",
        "  print('acc: ', sklearn.metrics.accuracy_score(test_labels[:len(y_score)], y_score>0.5))\n",
        "\n",
        "  plt.plot(fpr, tpr, 'b', alpha=0.15)\n",
        "  tpr = interp(base_fpr, fpr, tpr)\n",
        "  tpr[0] = 0.0\n",
        "  tprs.append(tpr)\n",
        "\n",
        "tprs = np.array(tprs)\n",
        "mean_tprs = tprs.mean(axis=0)\n",
        "std = tprs.std(axis=0)\n",
        "\n",
        "tprs_upper = np.minimum(mean_tprs + std, 1)\n",
        "tprs_lower = mean_tprs - std\n",
        "\n",
        "plt.plot(base_fpr, mean_tprs, 'b')\n",
        "plt.fill_between(base_fpr, tprs_lower, tprs_upper, color='grey', alpha=0.3)\n",
        "\n",
        "plt.plot([0, 1], [0, 1],'r--')\n",
        "plt.xlim([0, 1])\n",
        "plt.ylim([0, 1])\n",
        "plt.ylabel('True Positive Rate')\n",
        "plt.xlabel('False Positive Rate')\n",
        "plt.axes().set_aspect('equal', 'datalim')\n",
        "plt.savefig('roc_curve.png')\n",
        "plt.show()"
      ],
      "execution_count": null,
      "outputs": []
    }
  ]
}